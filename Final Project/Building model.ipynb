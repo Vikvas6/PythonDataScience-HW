{
 "cells": [
  {
   "cell_type": "markdown",
   "metadata": {},
   "source": [
    "# Чистовой вариант"
   ]
  },
  {
   "cell_type": "markdown",
   "metadata": {},
   "source": [
    "Я работал сразу в нескольких нотбуках - я писал функции, которые строят большое количество моделей с разными параметрами и оценивают их, такие функции работают долго, поэтому запустив функцию я создавал копию нотбука и продолжал работать в копии.\n",
    "\n",
    "В этих функциях я использовал print - чтобы видеть результат как только он вычислился без необходимости ждать, когда все модели посчитаются. Чтобы не загромождать нотбук, я переносил результаты в Эксель файл и очищал вывод.\n",
    "\n",
    "В Экселе и сравнивал результаты. Графики я не делал, можно сказать не успел - мне было проще в табличном виде смотреть, поэтому заранее всё не построил =(.\n",
    "\n",
    "Чистовой нотбук называется Building model.ipynb - в нём строится одна модель с теми параметрами, по которым у меня получился максимальный r2.\n",
    "\n",
    "Много интересного в нотбуке Building model - Forests.ipynb - там я подбирали итоговые параметры, которые и вошли в чистовой вариант."
   ]
  },
  {
   "cell_type": "code",
   "execution_count": 1,
   "metadata": {},
   "outputs": [],
   "source": [
    "import numpy as np\n",
    "import pandas as pd\n",
    "\n",
    "import warnings\n",
    "warnings.filterwarnings('ignore')\n",
    "pd.options.display.max_columns = 100"
   ]
  },
  {
   "cell_type": "markdown",
   "metadata": {},
   "source": [
    "### 1) Читаем данные"
   ]
  },
  {
   "cell_type": "code",
   "execution_count": 2,
   "metadata": {},
   "outputs": [],
   "source": [
    "data = pd.read_csv('input/train.csv')"
   ]
  },
  {
   "cell_type": "code",
   "execution_count": 3,
   "metadata": {},
   "outputs": [
    {
     "name": "stdout",
     "output_type": "stream",
     "text": [
      "<class 'pandas.core.frame.DataFrame'>\n",
      "RangeIndex: 10000 entries, 0 to 9999\n",
      "Data columns (total 20 columns):\n",
      "Id               10000 non-null int64\n",
      "DistrictId       10000 non-null int64\n",
      "Rooms            10000 non-null float64\n",
      "Square           10000 non-null float64\n",
      "LifeSquare       7887 non-null float64\n",
      "KitchenSquare    10000 non-null float64\n",
      "Floor            10000 non-null int64\n",
      "HouseFloor       10000 non-null float64\n",
      "HouseYear        10000 non-null int64\n",
      "Ecology_1        10000 non-null float64\n",
      "Ecology_2        10000 non-null object\n",
      "Ecology_3        10000 non-null object\n",
      "Social_1         10000 non-null int64\n",
      "Social_2         10000 non-null int64\n",
      "Social_3         10000 non-null int64\n",
      "Healthcare_1     5202 non-null float64\n",
      "Helthcare_2      10000 non-null int64\n",
      "Shops_1          10000 non-null int64\n",
      "Shops_2          10000 non-null object\n",
      "Price            10000 non-null float64\n",
      "dtypes: float64(8), int64(9), object(3)\n",
      "memory usage: 1.5+ MB\n"
     ]
    }
   ],
   "source": [
    "data.info()"
   ]
  },
  {
   "cell_type": "code",
   "execution_count": 4,
   "metadata": {},
   "outputs": [
    {
     "data": {
      "text/html": [
       "<div>\n",
       "<style scoped>\n",
       "    .dataframe tbody tr th:only-of-type {\n",
       "        vertical-align: middle;\n",
       "    }\n",
       "\n",
       "    .dataframe tbody tr th {\n",
       "        vertical-align: top;\n",
       "    }\n",
       "\n",
       "    .dataframe thead th {\n",
       "        text-align: right;\n",
       "    }\n",
       "</style>\n",
       "<table border=\"1\" class=\"dataframe\">\n",
       "  <thead>\n",
       "    <tr style=\"text-align: right;\">\n",
       "      <th></th>\n",
       "      <th>Id</th>\n",
       "      <th>DistrictId</th>\n",
       "      <th>Rooms</th>\n",
       "      <th>Square</th>\n",
       "      <th>LifeSquare</th>\n",
       "      <th>KitchenSquare</th>\n",
       "      <th>Floor</th>\n",
       "      <th>HouseFloor</th>\n",
       "      <th>HouseYear</th>\n",
       "      <th>Ecology_1</th>\n",
       "      <th>Ecology_2</th>\n",
       "      <th>Ecology_3</th>\n",
       "      <th>Social_1</th>\n",
       "      <th>Social_2</th>\n",
       "      <th>Social_3</th>\n",
       "      <th>Healthcare_1</th>\n",
       "      <th>Helthcare_2</th>\n",
       "      <th>Shops_1</th>\n",
       "      <th>Shops_2</th>\n",
       "      <th>Price</th>\n",
       "    </tr>\n",
       "  </thead>\n",
       "  <tbody>\n",
       "    <tr>\n",
       "      <th>0</th>\n",
       "      <td>14038</td>\n",
       "      <td>35</td>\n",
       "      <td>2.0</td>\n",
       "      <td>47.981561</td>\n",
       "      <td>29.442751</td>\n",
       "      <td>6.0</td>\n",
       "      <td>7</td>\n",
       "      <td>9.0</td>\n",
       "      <td>1969</td>\n",
       "      <td>0.089040</td>\n",
       "      <td>B</td>\n",
       "      <td>B</td>\n",
       "      <td>33</td>\n",
       "      <td>7976</td>\n",
       "      <td>5</td>\n",
       "      <td>NaN</td>\n",
       "      <td>0</td>\n",
       "      <td>11</td>\n",
       "      <td>B</td>\n",
       "      <td>184966.930730</td>\n",
       "    </tr>\n",
       "    <tr>\n",
       "      <th>1</th>\n",
       "      <td>15053</td>\n",
       "      <td>41</td>\n",
       "      <td>3.0</td>\n",
       "      <td>65.683640</td>\n",
       "      <td>40.049543</td>\n",
       "      <td>8.0</td>\n",
       "      <td>7</td>\n",
       "      <td>9.0</td>\n",
       "      <td>1978</td>\n",
       "      <td>0.000070</td>\n",
       "      <td>B</td>\n",
       "      <td>B</td>\n",
       "      <td>46</td>\n",
       "      <td>10309</td>\n",
       "      <td>1</td>\n",
       "      <td>240.0</td>\n",
       "      <td>1</td>\n",
       "      <td>16</td>\n",
       "      <td>B</td>\n",
       "      <td>300009.450063</td>\n",
       "    </tr>\n",
       "    <tr>\n",
       "      <th>2</th>\n",
       "      <td>4765</td>\n",
       "      <td>53</td>\n",
       "      <td>2.0</td>\n",
       "      <td>44.947953</td>\n",
       "      <td>29.197612</td>\n",
       "      <td>0.0</td>\n",
       "      <td>8</td>\n",
       "      <td>12.0</td>\n",
       "      <td>1968</td>\n",
       "      <td>0.049637</td>\n",
       "      <td>B</td>\n",
       "      <td>B</td>\n",
       "      <td>34</td>\n",
       "      <td>7759</td>\n",
       "      <td>0</td>\n",
       "      <td>229.0</td>\n",
       "      <td>1</td>\n",
       "      <td>3</td>\n",
       "      <td>B</td>\n",
       "      <td>220925.908524</td>\n",
       "    </tr>\n",
       "    <tr>\n",
       "      <th>3</th>\n",
       "      <td>5809</td>\n",
       "      <td>58</td>\n",
       "      <td>2.0</td>\n",
       "      <td>53.352981</td>\n",
       "      <td>52.731512</td>\n",
       "      <td>9.0</td>\n",
       "      <td>8</td>\n",
       "      <td>17.0</td>\n",
       "      <td>1977</td>\n",
       "      <td>0.437885</td>\n",
       "      <td>B</td>\n",
       "      <td>B</td>\n",
       "      <td>23</td>\n",
       "      <td>5735</td>\n",
       "      <td>3</td>\n",
       "      <td>1084.0</td>\n",
       "      <td>0</td>\n",
       "      <td>5</td>\n",
       "      <td>B</td>\n",
       "      <td>175616.227217</td>\n",
       "    </tr>\n",
       "    <tr>\n",
       "      <th>4</th>\n",
       "      <td>10783</td>\n",
       "      <td>99</td>\n",
       "      <td>1.0</td>\n",
       "      <td>39.649192</td>\n",
       "      <td>23.776169</td>\n",
       "      <td>7.0</td>\n",
       "      <td>11</td>\n",
       "      <td>12.0</td>\n",
       "      <td>1976</td>\n",
       "      <td>0.012339</td>\n",
       "      <td>B</td>\n",
       "      <td>B</td>\n",
       "      <td>35</td>\n",
       "      <td>5776</td>\n",
       "      <td>1</td>\n",
       "      <td>2078.0</td>\n",
       "      <td>2</td>\n",
       "      <td>4</td>\n",
       "      <td>B</td>\n",
       "      <td>150226.531644</td>\n",
       "    </tr>\n",
       "  </tbody>\n",
       "</table>\n",
       "</div>"
      ],
      "text/plain": [
       "      Id  DistrictId  Rooms     Square  LifeSquare  KitchenSquare  Floor  \\\n",
       "0  14038          35    2.0  47.981561   29.442751            6.0      7   \n",
       "1  15053          41    3.0  65.683640   40.049543            8.0      7   \n",
       "2   4765          53    2.0  44.947953   29.197612            0.0      8   \n",
       "3   5809          58    2.0  53.352981   52.731512            9.0      8   \n",
       "4  10783          99    1.0  39.649192   23.776169            7.0     11   \n",
       "\n",
       "   HouseFloor  HouseYear  Ecology_1 Ecology_2 Ecology_3  Social_1  Social_2  \\\n",
       "0         9.0       1969   0.089040         B         B        33      7976   \n",
       "1         9.0       1978   0.000070         B         B        46     10309   \n",
       "2        12.0       1968   0.049637         B         B        34      7759   \n",
       "3        17.0       1977   0.437885         B         B        23      5735   \n",
       "4        12.0       1976   0.012339         B         B        35      5776   \n",
       "\n",
       "   Social_3  Healthcare_1  Helthcare_2  Shops_1 Shops_2          Price  \n",
       "0         5           NaN            0       11       B  184966.930730  \n",
       "1         1         240.0            1       16       B  300009.450063  \n",
       "2         0         229.0            1        3       B  220925.908524  \n",
       "3         3        1084.0            0        5       B  175616.227217  \n",
       "4         1        2078.0            2        4       B  150226.531644  "
      ]
     },
     "execution_count": 4,
     "metadata": {},
     "output_type": "execute_result"
    }
   ],
   "source": [
    "data.head()"
   ]
  },
  {
   "cell_type": "markdown",
   "metadata": {},
   "source": [
    "### 2) Разбиваем на трейн и валид"
   ]
  },
  {
   "cell_type": "code",
   "execution_count": 5,
   "metadata": {},
   "outputs": [],
   "source": [
    "from sklearn.model_selection import train_test_split"
   ]
  },
  {
   "cell_type": "code",
   "execution_count": 6,
   "metadata": {},
   "outputs": [],
   "source": [
    "train, valid = train_test_split(data, test_size=0.3, random_state=100)"
   ]
  },
  {
   "cell_type": "code",
   "execution_count": 7,
   "metadata": {},
   "outputs": [
    {
     "data": {
      "text/plain": [
       "Index(['Id', 'DistrictId', 'Rooms', 'Square', 'LifeSquare', 'KitchenSquare',\n",
       "       'Floor', 'HouseFloor', 'HouseYear', 'Ecology_1', 'Ecology_2',\n",
       "       'Ecology_3', 'Social_1', 'Social_2', 'Social_3', 'Healthcare_1',\n",
       "       'Helthcare_2', 'Shops_1', 'Shops_2', 'Price'],\n",
       "      dtype='object')"
      ]
     },
     "execution_count": 7,
     "metadata": {},
     "output_type": "execute_result"
    }
   ],
   "source": [
    "train.columns"
   ]
  },
  {
   "cell_type": "markdown",
   "metadata": {},
   "source": [
    "### 3) Пишем функции для обработки данных"
   ]
  },
  {
   "cell_type": "code",
   "execution_count": 8,
   "metadata": {
    "scrolled": true
   },
   "outputs": [],
   "source": [
    "def clean_kitchen(df):\n",
    "    df.loc[df['KitchenSquare'] > df['Square'] * 0.4, 'KitchenSquare'] = df['Square'] * 0.15\n",
    "    return df"
   ]
  },
  {
   "cell_type": "code",
   "execution_count": 9,
   "metadata": {},
   "outputs": [],
   "source": [
    "def clean_rooms(df):\n",
    "    df.loc[df['Rooms'] > 5, 'Rooms'] = 5\n",
    "    return df"
   ]
  },
  {
   "cell_type": "code",
   "execution_count": 10,
   "metadata": {},
   "outputs": [],
   "source": [
    "def clean_square(df):\n",
    "    df.loc[df['Square'] < 15, 'Square'] = 15\n",
    "    df['LifeSquare'] = df['LifeSquare'].fillna(df['Square'] - df['KitchenSquare'])\n",
    "    df.loc[df['Square'] < df['LifeSquare'] + df['KitchenSquare'], 'Square'] = df['LifeSquare'] + df['KitchenSquare']\n",
    "    return df"
   ]
  },
  {
   "cell_type": "code",
   "execution_count": 11,
   "metadata": {},
   "outputs": [],
   "source": [
    "def clean_year(df):\n",
    "    df.loc[df['HouseYear'] > 2020, 'HouseYear'] = 2020\n",
    "    return df"
   ]
  },
  {
   "cell_type": "code",
   "execution_count": 12,
   "metadata": {},
   "outputs": [],
   "source": [
    "stat0 = train.groupby(['DistrictId', 'Rooms', 'Social_2'], as_index=False)[['Price']].mean().rename(columns={'Price':'mean_price_drs'})\n",
    "stat1 = train.groupby(['DistrictId', 'Rooms'], as_index=False)[['Price']].mean().rename(columns={'Price':'mean_price_dr'})\n",
    "stat2 = train.groupby(['Rooms'], as_index=False)[['Price']].mean().rename(columns={'Price':'mean_price_r'})\n",
    "mean_price = train['Price'].mean()"
   ]
  },
  {
   "cell_type": "code",
   "execution_count": 13,
   "metadata": {},
   "outputs": [],
   "source": [
    "def add_mean_price(df, stat0, stat1, stat2, mean_price):\n",
    "    df = pd.merge(df, stat0, on=['DistrictId', 'Rooms', 'Social_2'], how='left')\n",
    "    df = pd.merge(df, stat1, on=['DistrictId', 'Rooms'], how='left')\n",
    "    df = pd.merge(df, stat2, on=['Rooms'], how='left')\n",
    "    df['mean_price_r'] = df['mean_price_r'].fillna(mean_price)\n",
    "    df['mean_price_dr'] = df['mean_price_dr'].fillna(df['mean_price_r'])\n",
    "    df['mean_price_drs'] = df['mean_price_drs'].fillna(df['mean_price_dr'])\n",
    "    return df"
   ]
  },
  {
   "cell_type": "code",
   "execution_count": 14,
   "metadata": {},
   "outputs": [],
   "source": [
    "def do_label(df, feature):\n",
    "    lab_enc = preprocessing.LabelEncoder()\n",
    "    df.loc[:, feature] = lab_enc.fit_transform(df.loc[:, feature])\n",
    "    return df\n",
    "def dummies_handling(df):\n",
    "    df = pd.get_dummies(df, columns = ['Ecology_2', 'Ecology_3', 'Shops_2'])\n",
    "    #df = do_label(df, 'Social_2')\n",
    "    return df"
   ]
  },
  {
   "cell_type": "code",
   "execution_count": 15,
   "metadata": {},
   "outputs": [],
   "source": [
    "def floors_checking(df):\n",
    "    df['HouseFloor'] = df['HouseFloor'].astype(int)\n",
    "    df.loc[df['HouseFloor'] <= 0, 'HouseFloor'] = df['Floor'] + 1 # Не на последнем\n",
    "    to_change = df['Floor'] > df['HouseFloor']\n",
    "    df.loc[to_change, 'Floor'], df.loc[to_change, 'HouseFloor'] = df.loc[to_change, 'HouseFloor'], df.loc[to_change,'Floor']\n",
    "    df['LastFloor'] = 0\n",
    "    df.loc[df['Floor'] == df['HouseFloor'], 'LastFloor'] = 1\n",
    "    df.loc[df['Floor'] == 1, 'LastFloor'] = 1\n",
    "    return df"
   ]
  },
  {
   "cell_type": "code",
   "execution_count": 16,
   "metadata": {},
   "outputs": [],
   "source": [
    "hc_stat1 = train.groupby(['DistrictId'], as_index=False)[['Healthcare_1']].mean().rename(columns={'Healthcare_1':'mean_hc_1'})\n",
    "mean_hc_1 = train['Healthcare_1'].mean()"
   ]
  },
  {
   "cell_type": "code",
   "execution_count": 17,
   "metadata": {},
   "outputs": [],
   "source": [
    "def clean_healthcare(df, hc_stat1, mean_hc_1):\n",
    "    df['Helthcare_2'] = df['Helthcare_2'].astype(int)\n",
    "    df = pd.merge(df, hc_stat1, on=['DistrictId'], how='left')\n",
    "    df['mean_hc_1'] = df['mean_hc_1'].fillna(mean_hc_1)\n",
    "    df['Healthcare_1'] = df['Healthcare_1'].fillna(df['mean_hc_1'])    \n",
    "    return df"
   ]
  },
  {
   "cell_type": "code",
   "execution_count": 18,
   "metadata": {},
   "outputs": [],
   "source": [
    "def prepare_data(df, stat1=stat1, stat2=stat2, mean_price=mean_price, hc_stat1=hc_stat1, mean_hc_1=mean_hc_1):\n",
    "    df = clean_kitchen(df)\n",
    "    df = clean_rooms(df)\n",
    "    df = clean_square(df)\n",
    "    df = clean_year(df)\n",
    "    df = dummies_handling(df)\n",
    "    df = add_mean_price(df, stat0, stat1, stat2, mean_price)\n",
    "    df = floors_checking(df)\n",
    "    df = clean_healthcare(df, hc_stat1, mean_hc_1)\n",
    "    return df"
   ]
  },
  {
   "cell_type": "markdown",
   "metadata": {},
   "source": [
    "### 4) Чистка данных"
   ]
  },
  {
   "cell_type": "markdown",
   "metadata": {},
   "source": [
    "Я решил не удалять строки - всё равно из Теста их нельзя удалять"
   ]
  },
  {
   "cell_type": "markdown",
   "metadata": {},
   "source": [
    "### 5) Применяем функции на трейне и валиде"
   ]
  },
  {
   "cell_type": "code",
   "execution_count": 19,
   "metadata": {},
   "outputs": [],
   "source": [
    "train = prepare_data(train)\n",
    "valid = prepare_data(valid)"
   ]
  },
  {
   "cell_type": "code",
   "execution_count": 20,
   "metadata": {},
   "outputs": [
    {
     "data": {
      "text/html": [
       "<div>\n",
       "<style scoped>\n",
       "    .dataframe tbody tr th:only-of-type {\n",
       "        vertical-align: middle;\n",
       "    }\n",
       "\n",
       "    .dataframe tbody tr th {\n",
       "        vertical-align: top;\n",
       "    }\n",
       "\n",
       "    .dataframe thead th {\n",
       "        text-align: right;\n",
       "    }\n",
       "</style>\n",
       "<table border=\"1\" class=\"dataframe\">\n",
       "  <thead>\n",
       "    <tr style=\"text-align: right;\">\n",
       "      <th></th>\n",
       "      <th>Id</th>\n",
       "      <th>DistrictId</th>\n",
       "      <th>Rooms</th>\n",
       "      <th>Square</th>\n",
       "      <th>LifeSquare</th>\n",
       "      <th>KitchenSquare</th>\n",
       "      <th>Floor</th>\n",
       "      <th>HouseFloor</th>\n",
       "      <th>HouseYear</th>\n",
       "      <th>Ecology_1</th>\n",
       "      <th>Social_1</th>\n",
       "      <th>Social_2</th>\n",
       "      <th>Social_3</th>\n",
       "      <th>Healthcare_1</th>\n",
       "      <th>Helthcare_2</th>\n",
       "      <th>Shops_1</th>\n",
       "      <th>Price</th>\n",
       "      <th>Ecology_2_A</th>\n",
       "      <th>Ecology_2_B</th>\n",
       "      <th>Ecology_3_A</th>\n",
       "      <th>Ecology_3_B</th>\n",
       "      <th>Shops_2_A</th>\n",
       "      <th>Shops_2_B</th>\n",
       "      <th>mean_price_drs</th>\n",
       "      <th>mean_price_dr</th>\n",
       "      <th>mean_price_r</th>\n",
       "      <th>LastFloor</th>\n",
       "      <th>mean_hc_1</th>\n",
       "    </tr>\n",
       "  </thead>\n",
       "  <tbody>\n",
       "    <tr>\n",
       "      <th>0</th>\n",
       "      <td>13182</td>\n",
       "      <td>1</td>\n",
       "      <td>3.0</td>\n",
       "      <td>81.107658</td>\n",
       "      <td>80.107658</td>\n",
       "      <td>1.0</td>\n",
       "      <td>10</td>\n",
       "      <td>17</td>\n",
       "      <td>1977</td>\n",
       "      <td>0.007122</td>\n",
       "      <td>1</td>\n",
       "      <td>264</td>\n",
       "      <td>0</td>\n",
       "      <td>228.292683</td>\n",
       "      <td>0</td>\n",
       "      <td>1</td>\n",
       "      <td>250381.580780</td>\n",
       "      <td>0</td>\n",
       "      <td>1</td>\n",
       "      <td>0</td>\n",
       "      <td>1</td>\n",
       "      <td>0</td>\n",
       "      <td>1</td>\n",
       "      <td>249368.226510</td>\n",
       "      <td>242920.318313</td>\n",
       "      <td>288183.829856</td>\n",
       "      <td>0</td>\n",
       "      <td>228.292683</td>\n",
       "    </tr>\n",
       "    <tr>\n",
       "      <th>1</th>\n",
       "      <td>10195</td>\n",
       "      <td>27</td>\n",
       "      <td>3.0</td>\n",
       "      <td>50.841082</td>\n",
       "      <td>34.225561</td>\n",
       "      <td>8.0</td>\n",
       "      <td>7</td>\n",
       "      <td>12</td>\n",
       "      <td>2013</td>\n",
       "      <td>0.072158</td>\n",
       "      <td>2</td>\n",
       "      <td>629</td>\n",
       "      <td>1</td>\n",
       "      <td>1140.695855</td>\n",
       "      <td>0</td>\n",
       "      <td>0</td>\n",
       "      <td>143545.018507</td>\n",
       "      <td>0</td>\n",
       "      <td>1</td>\n",
       "      <td>0</td>\n",
       "      <td>1</td>\n",
       "      <td>1</td>\n",
       "      <td>0</td>\n",
       "      <td>211930.719662</td>\n",
       "      <td>210532.678647</td>\n",
       "      <td>288183.829856</td>\n",
       "      <td>0</td>\n",
       "      <td>1140.695855</td>\n",
       "    </tr>\n",
       "    <tr>\n",
       "      <th>2</th>\n",
       "      <td>9055</td>\n",
       "      <td>53</td>\n",
       "      <td>2.0</td>\n",
       "      <td>52.301049</td>\n",
       "      <td>33.105796</td>\n",
       "      <td>8.0</td>\n",
       "      <td>4</td>\n",
       "      <td>12</td>\n",
       "      <td>1975</td>\n",
       "      <td>0.049637</td>\n",
       "      <td>34</td>\n",
       "      <td>7759</td>\n",
       "      <td>0</td>\n",
       "      <td>229.000000</td>\n",
       "      <td>1</td>\n",
       "      <td>3</td>\n",
       "      <td>270794.714055</td>\n",
       "      <td>0</td>\n",
       "      <td>1</td>\n",
       "      <td>0</td>\n",
       "      <td>1</td>\n",
       "      <td>0</td>\n",
       "      <td>1</td>\n",
       "      <td>261526.595768</td>\n",
       "      <td>257896.225214</td>\n",
       "      <td>214622.517478</td>\n",
       "      <td>0</td>\n",
       "      <td>746.975806</td>\n",
       "    </tr>\n",
       "    <tr>\n",
       "      <th>3</th>\n",
       "      <td>2819</td>\n",
       "      <td>52</td>\n",
       "      <td>2.0</td>\n",
       "      <td>68.935850</td>\n",
       "      <td>68.935850</td>\n",
       "      <td>0.0</td>\n",
       "      <td>16</td>\n",
       "      <td>17</td>\n",
       "      <td>1977</td>\n",
       "      <td>0.371149</td>\n",
       "      <td>34</td>\n",
       "      <td>7065</td>\n",
       "      <td>1</td>\n",
       "      <td>750.000000</td>\n",
       "      <td>2</td>\n",
       "      <td>5</td>\n",
       "      <td>168600.632600</td>\n",
       "      <td>0</td>\n",
       "      <td>1</td>\n",
       "      <td>0</td>\n",
       "      <td>1</td>\n",
       "      <td>0</td>\n",
       "      <td>1</td>\n",
       "      <td>177466.581911</td>\n",
       "      <td>177466.581911</td>\n",
       "      <td>214622.517478</td>\n",
       "      <td>0</td>\n",
       "      <td>750.000000</td>\n",
       "    </tr>\n",
       "    <tr>\n",
       "      <th>4</th>\n",
       "      <td>16504</td>\n",
       "      <td>27</td>\n",
       "      <td>1.0</td>\n",
       "      <td>78.944462</td>\n",
       "      <td>58.944462</td>\n",
       "      <td>20.0</td>\n",
       "      <td>6</td>\n",
       "      <td>6</td>\n",
       "      <td>2017</td>\n",
       "      <td>0.075424</td>\n",
       "      <td>11</td>\n",
       "      <td>3097</td>\n",
       "      <td>0</td>\n",
       "      <td>1140.695855</td>\n",
       "      <td>0</td>\n",
       "      <td>0</td>\n",
       "      <td>195520.319385</td>\n",
       "      <td>0</td>\n",
       "      <td>1</td>\n",
       "      <td>0</td>\n",
       "      <td>1</td>\n",
       "      <td>0</td>\n",
       "      <td>1</td>\n",
       "      <td>136591.260374</td>\n",
       "      <td>121865.415028</td>\n",
       "      <td>159775.950796</td>\n",
       "      <td>1</td>\n",
       "      <td>1140.695855</td>\n",
       "    </tr>\n",
       "  </tbody>\n",
       "</table>\n",
       "</div>"
      ],
      "text/plain": [
       "      Id  DistrictId  Rooms     Square  LifeSquare  KitchenSquare  Floor  \\\n",
       "0  13182           1    3.0  81.107658   80.107658            1.0     10   \n",
       "1  10195          27    3.0  50.841082   34.225561            8.0      7   \n",
       "2   9055          53    2.0  52.301049   33.105796            8.0      4   \n",
       "3   2819          52    2.0  68.935850   68.935850            0.0     16   \n",
       "4  16504          27    1.0  78.944462   58.944462           20.0      6   \n",
       "\n",
       "   HouseFloor  HouseYear  Ecology_1  Social_1  Social_2  Social_3  \\\n",
       "0          17       1977   0.007122         1       264         0   \n",
       "1          12       2013   0.072158         2       629         1   \n",
       "2          12       1975   0.049637        34      7759         0   \n",
       "3          17       1977   0.371149        34      7065         1   \n",
       "4           6       2017   0.075424        11      3097         0   \n",
       "\n",
       "   Healthcare_1  Helthcare_2  Shops_1          Price  Ecology_2_A  \\\n",
       "0    228.292683            0        1  250381.580780            0   \n",
       "1   1140.695855            0        0  143545.018507            0   \n",
       "2    229.000000            1        3  270794.714055            0   \n",
       "3    750.000000            2        5  168600.632600            0   \n",
       "4   1140.695855            0        0  195520.319385            0   \n",
       "\n",
       "   Ecology_2_B  Ecology_3_A  Ecology_3_B  Shops_2_A  Shops_2_B  \\\n",
       "0            1            0            1          0          1   \n",
       "1            1            0            1          1          0   \n",
       "2            1            0            1          0          1   \n",
       "3            1            0            1          0          1   \n",
       "4            1            0            1          0          1   \n",
       "\n",
       "   mean_price_drs  mean_price_dr   mean_price_r  LastFloor    mean_hc_1  \n",
       "0   249368.226510  242920.318313  288183.829856          0   228.292683  \n",
       "1   211930.719662  210532.678647  288183.829856          0  1140.695855  \n",
       "2   261526.595768  257896.225214  214622.517478          0   746.975806  \n",
       "3   177466.581911  177466.581911  214622.517478          0   750.000000  \n",
       "4   136591.260374  121865.415028  159775.950796          1  1140.695855  "
      ]
     },
     "execution_count": 20,
     "metadata": {},
     "output_type": "execute_result"
    }
   ],
   "source": [
    "train.head()"
   ]
  },
  {
   "cell_type": "code",
   "execution_count": 21,
   "metadata": {},
   "outputs": [
    {
     "name": "stdout",
     "output_type": "stream",
     "text": [
      "<class 'pandas.core.frame.DataFrame'>\n",
      "Int64Index: 7000 entries, 0 to 6999\n",
      "Data columns (total 28 columns):\n",
      "Id                7000 non-null int64\n",
      "DistrictId        7000 non-null int64\n",
      "Rooms             7000 non-null float64\n",
      "Square            7000 non-null float64\n",
      "LifeSquare        7000 non-null float64\n",
      "KitchenSquare     7000 non-null float64\n",
      "Floor             7000 non-null int64\n",
      "HouseFloor        7000 non-null int64\n",
      "HouseYear         7000 non-null int64\n",
      "Ecology_1         7000 non-null float64\n",
      "Social_1          7000 non-null int64\n",
      "Social_2          7000 non-null int64\n",
      "Social_3          7000 non-null int64\n",
      "Healthcare_1      7000 non-null float64\n",
      "Helthcare_2       7000 non-null int32\n",
      "Shops_1           7000 non-null int64\n",
      "Price             7000 non-null float64\n",
      "Ecology_2_A       7000 non-null uint8\n",
      "Ecology_2_B       7000 non-null uint8\n",
      "Ecology_3_A       7000 non-null uint8\n",
      "Ecology_3_B       7000 non-null uint8\n",
      "Shops_2_A         7000 non-null uint8\n",
      "Shops_2_B         7000 non-null uint8\n",
      "mean_price_drs    7000 non-null float64\n",
      "mean_price_dr     7000 non-null float64\n",
      "mean_price_r      7000 non-null float64\n",
      "LastFloor         7000 non-null int64\n",
      "mean_hc_1         7000 non-null float64\n",
      "dtypes: float64(11), int32(1), int64(10), uint8(6)\n",
      "memory usage: 1.2 MB\n"
     ]
    }
   ],
   "source": [
    "train.info()"
   ]
  },
  {
   "cell_type": "markdown",
   "metadata": {},
   "source": [
    "### 6) Строим модель, делаем предсказание на трейне и валиде"
   ]
  },
  {
   "cell_type": "code",
   "execution_count": 22,
   "metadata": {},
   "outputs": [],
   "source": [
    "from sklearn.ensemble import RandomForestRegressor as RF"
   ]
  },
  {
   "cell_type": "code",
   "execution_count": 23,
   "metadata": {},
   "outputs": [],
   "source": [
    "model = RF(n_estimators=214, max_depth=17, random_state=100)"
   ]
  },
  {
   "cell_type": "code",
   "execution_count": 24,
   "metadata": {},
   "outputs": [],
   "source": [
    "feats = ['Rooms', 'Square', 'Helthcare_2', 'Shops_1', 'Shops_2_A',\\\n",
    "         'Social_1', 'Social_3', 'Ecology_1',\\\n",
    "         'KitchenSquare', 'HouseFloor', 'Floor', 'HouseYear', 'Healthcare_1']"
   ]
  },
  {
   "cell_type": "code",
   "execution_count": 25,
   "metadata": {},
   "outputs": [
    {
     "data": {
      "text/plain": [
       "RandomForestRegressor(bootstrap=True, criterion='mse', max_depth=17,\n",
       "           max_features='auto', max_leaf_nodes=None,\n",
       "           min_impurity_decrease=0.0, min_impurity_split=None,\n",
       "           min_samples_leaf=1, min_samples_split=2,\n",
       "           min_weight_fraction_leaf=0.0, n_estimators=214, n_jobs=1,\n",
       "           oob_score=False, random_state=100, verbose=0, warm_start=False)"
      ]
     },
     "execution_count": 25,
     "metadata": {},
     "output_type": "execute_result"
    }
   ],
   "source": [
    "model.fit(train.loc[:, feats], train['Price'])"
   ]
  },
  {
   "cell_type": "markdown",
   "metadata": {},
   "source": [
    "### 7) Проверяем качество модели"
   ]
  },
  {
   "cell_type": "code",
   "execution_count": 26,
   "metadata": {},
   "outputs": [],
   "source": [
    "from sklearn.metrics import r2_score"
   ]
  },
  {
   "cell_type": "code",
   "execution_count": 27,
   "metadata": {},
   "outputs": [],
   "source": [
    "def pred_evaluate_model(df, model=model, feats=feats, calculate_r2='Yes'):\n",
    "    pred = model.predict(df.loc[:, feats])\n",
    "    if calculate_r2 == 'Yes':\n",
    "        r2 = r2_score(df['Price'], pred)\n",
    "        print(f'R2: {r2}')\n",
    "    return pred"
   ]
  },
  {
   "cell_type": "code",
   "execution_count": 28,
   "metadata": {},
   "outputs": [],
   "source": [
    "def evaluate_model(df, model=model, feats=feats):\n",
    "    pred = model.predict(df.loc[:, feats])\n",
    "    return r2_score(df['Price'], pred)"
   ]
  },
  {
   "cell_type": "code",
   "execution_count": 29,
   "metadata": {
    "scrolled": true
   },
   "outputs": [
    {
     "name": "stdout",
     "output_type": "stream",
     "text": [
      "R2: 0.9487078496535671\n"
     ]
    }
   ],
   "source": [
    "pred_train = pred_evaluate_model(train)"
   ]
  },
  {
   "cell_type": "code",
   "execution_count": 30,
   "metadata": {},
   "outputs": [
    {
     "name": "stdout",
     "output_type": "stream",
     "text": [
      "R2: 0.7247925782368756\n"
     ]
    }
   ],
   "source": [
    "pred_valid = pred_evaluate_model(valid)"
   ]
  },
  {
   "cell_type": "markdown",
   "metadata": {},
   "source": [
    "### 8) Применяем функции обработки данных, чистим тестовые данные"
   ]
  },
  {
   "cell_type": "code",
   "execution_count": 31,
   "metadata": {},
   "outputs": [],
   "source": [
    "test = pd.read_csv('input/test.csv')\n",
    "test = prepare_data(test)"
   ]
  },
  {
   "cell_type": "markdown",
   "metadata": {},
   "source": [
    "### 9) Делаем предсказание на тесте"
   ]
  },
  {
   "cell_type": "code",
   "execution_count": 32,
   "metadata": {},
   "outputs": [],
   "source": [
    "test['Price'] = pred_evaluate_model(test, calculate_r2='No')"
   ]
  },
  {
   "cell_type": "markdown",
   "metadata": {},
   "source": [
    "### 10) Записываем предсказания в файл"
   ]
  },
  {
   "cell_type": "code",
   "execution_count": 33,
   "metadata": {},
   "outputs": [],
   "source": [
    "test.loc[:, ['Id', 'Price']].to_csv('VVashchenkov_predictions.csv', index=None)"
   ]
  },
  {
   "cell_type": "code",
   "execution_count": null,
   "metadata": {},
   "outputs": [],
   "source": []
  }
 ],
 "metadata": {
  "kernelspec": {
   "display_name": "Python 3",
   "language": "python",
   "name": "python3"
  },
  "language_info": {
   "codemirror_mode": {
    "name": "ipython",
    "version": 3
   },
   "file_extension": ".py",
   "mimetype": "text/x-python",
   "name": "python",
   "nbconvert_exporter": "python",
   "pygments_lexer": "ipython3",
   "version": "3.6.5"
  }
 },
 "nbformat": 4,
 "nbformat_minor": 2
}
