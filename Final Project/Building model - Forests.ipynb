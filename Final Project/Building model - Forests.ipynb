{
 "cells": [
  {
   "cell_type": "markdown",
   "metadata": {},
   "source": [
    "# Черновик - содержит различные варианты"
   ]
  },
  {
   "cell_type": "code",
   "execution_count": 767,
   "metadata": {},
   "outputs": [],
   "source": [
    "import numpy as np\n",
    "import pandas as pd\n",
    "\n",
    "import warnings\n",
    "warnings.filterwarnings('ignore')\n",
    "pd.options.display.max_columns = 100"
   ]
  },
  {
   "cell_type": "markdown",
   "metadata": {},
   "source": [
    "### 1) Читаем данные"
   ]
  },
  {
   "cell_type": "code",
   "execution_count": 768,
   "metadata": {},
   "outputs": [],
   "source": [
    "data = pd.read_csv('input/train.csv')"
   ]
  },
  {
   "cell_type": "code",
   "execution_count": 769,
   "metadata": {},
   "outputs": [
    {
     "name": "stdout",
     "output_type": "stream",
     "text": [
      "<class 'pandas.core.frame.DataFrame'>\n",
      "RangeIndex: 10000 entries, 0 to 9999\n",
      "Data columns (total 20 columns):\n",
      "Id               10000 non-null int64\n",
      "DistrictId       10000 non-null int64\n",
      "Rooms            10000 non-null float64\n",
      "Square           10000 non-null float64\n",
      "LifeSquare       7887 non-null float64\n",
      "KitchenSquare    10000 non-null float64\n",
      "Floor            10000 non-null int64\n",
      "HouseFloor       10000 non-null float64\n",
      "HouseYear        10000 non-null int64\n",
      "Ecology_1        10000 non-null float64\n",
      "Ecology_2        10000 non-null object\n",
      "Ecology_3        10000 non-null object\n",
      "Social_1         10000 non-null int64\n",
      "Social_2         10000 non-null int64\n",
      "Social_3         10000 non-null int64\n",
      "Healthcare_1     5202 non-null float64\n",
      "Helthcare_2      10000 non-null int64\n",
      "Shops_1          10000 non-null int64\n",
      "Shops_2          10000 non-null object\n",
      "Price            10000 non-null float64\n",
      "dtypes: float64(8), int64(9), object(3)\n",
      "memory usage: 1.5+ MB\n"
     ]
    }
   ],
   "source": [
    "data.info()"
   ]
  },
  {
   "cell_type": "code",
   "execution_count": 770,
   "metadata": {},
   "outputs": [
    {
     "data": {
      "text/html": [
       "<div>\n",
       "<style scoped>\n",
       "    .dataframe tbody tr th:only-of-type {\n",
       "        vertical-align: middle;\n",
       "    }\n",
       "\n",
       "    .dataframe tbody tr th {\n",
       "        vertical-align: top;\n",
       "    }\n",
       "\n",
       "    .dataframe thead th {\n",
       "        text-align: right;\n",
       "    }\n",
       "</style>\n",
       "<table border=\"1\" class=\"dataframe\">\n",
       "  <thead>\n",
       "    <tr style=\"text-align: right;\">\n",
       "      <th></th>\n",
       "      <th>Id</th>\n",
       "      <th>DistrictId</th>\n",
       "      <th>Rooms</th>\n",
       "      <th>Square</th>\n",
       "      <th>LifeSquare</th>\n",
       "      <th>KitchenSquare</th>\n",
       "      <th>Floor</th>\n",
       "      <th>HouseFloor</th>\n",
       "      <th>HouseYear</th>\n",
       "      <th>Ecology_1</th>\n",
       "      <th>Ecology_2</th>\n",
       "      <th>Ecology_3</th>\n",
       "      <th>Social_1</th>\n",
       "      <th>Social_2</th>\n",
       "      <th>Social_3</th>\n",
       "      <th>Healthcare_1</th>\n",
       "      <th>Helthcare_2</th>\n",
       "      <th>Shops_1</th>\n",
       "      <th>Shops_2</th>\n",
       "      <th>Price</th>\n",
       "    </tr>\n",
       "  </thead>\n",
       "  <tbody>\n",
       "    <tr>\n",
       "      <th>0</th>\n",
       "      <td>14038</td>\n",
       "      <td>35</td>\n",
       "      <td>2.0</td>\n",
       "      <td>47.981561</td>\n",
       "      <td>29.442751</td>\n",
       "      <td>6.0</td>\n",
       "      <td>7</td>\n",
       "      <td>9.0</td>\n",
       "      <td>1969</td>\n",
       "      <td>0.089040</td>\n",
       "      <td>B</td>\n",
       "      <td>B</td>\n",
       "      <td>33</td>\n",
       "      <td>7976</td>\n",
       "      <td>5</td>\n",
       "      <td>NaN</td>\n",
       "      <td>0</td>\n",
       "      <td>11</td>\n",
       "      <td>B</td>\n",
       "      <td>184966.930730</td>\n",
       "    </tr>\n",
       "    <tr>\n",
       "      <th>1</th>\n",
       "      <td>15053</td>\n",
       "      <td>41</td>\n",
       "      <td>3.0</td>\n",
       "      <td>65.683640</td>\n",
       "      <td>40.049543</td>\n",
       "      <td>8.0</td>\n",
       "      <td>7</td>\n",
       "      <td>9.0</td>\n",
       "      <td>1978</td>\n",
       "      <td>0.000070</td>\n",
       "      <td>B</td>\n",
       "      <td>B</td>\n",
       "      <td>46</td>\n",
       "      <td>10309</td>\n",
       "      <td>1</td>\n",
       "      <td>240.0</td>\n",
       "      <td>1</td>\n",
       "      <td>16</td>\n",
       "      <td>B</td>\n",
       "      <td>300009.450063</td>\n",
       "    </tr>\n",
       "    <tr>\n",
       "      <th>2</th>\n",
       "      <td>4765</td>\n",
       "      <td>53</td>\n",
       "      <td>2.0</td>\n",
       "      <td>44.947953</td>\n",
       "      <td>29.197612</td>\n",
       "      <td>0.0</td>\n",
       "      <td>8</td>\n",
       "      <td>12.0</td>\n",
       "      <td>1968</td>\n",
       "      <td>0.049637</td>\n",
       "      <td>B</td>\n",
       "      <td>B</td>\n",
       "      <td>34</td>\n",
       "      <td>7759</td>\n",
       "      <td>0</td>\n",
       "      <td>229.0</td>\n",
       "      <td>1</td>\n",
       "      <td>3</td>\n",
       "      <td>B</td>\n",
       "      <td>220925.908524</td>\n",
       "    </tr>\n",
       "    <tr>\n",
       "      <th>3</th>\n",
       "      <td>5809</td>\n",
       "      <td>58</td>\n",
       "      <td>2.0</td>\n",
       "      <td>53.352981</td>\n",
       "      <td>52.731512</td>\n",
       "      <td>9.0</td>\n",
       "      <td>8</td>\n",
       "      <td>17.0</td>\n",
       "      <td>1977</td>\n",
       "      <td>0.437885</td>\n",
       "      <td>B</td>\n",
       "      <td>B</td>\n",
       "      <td>23</td>\n",
       "      <td>5735</td>\n",
       "      <td>3</td>\n",
       "      <td>1084.0</td>\n",
       "      <td>0</td>\n",
       "      <td>5</td>\n",
       "      <td>B</td>\n",
       "      <td>175616.227217</td>\n",
       "    </tr>\n",
       "    <tr>\n",
       "      <th>4</th>\n",
       "      <td>10783</td>\n",
       "      <td>99</td>\n",
       "      <td>1.0</td>\n",
       "      <td>39.649192</td>\n",
       "      <td>23.776169</td>\n",
       "      <td>7.0</td>\n",
       "      <td>11</td>\n",
       "      <td>12.0</td>\n",
       "      <td>1976</td>\n",
       "      <td>0.012339</td>\n",
       "      <td>B</td>\n",
       "      <td>B</td>\n",
       "      <td>35</td>\n",
       "      <td>5776</td>\n",
       "      <td>1</td>\n",
       "      <td>2078.0</td>\n",
       "      <td>2</td>\n",
       "      <td>4</td>\n",
       "      <td>B</td>\n",
       "      <td>150226.531644</td>\n",
       "    </tr>\n",
       "  </tbody>\n",
       "</table>\n",
       "</div>"
      ],
      "text/plain": [
       "      Id  DistrictId  Rooms     Square  LifeSquare  KitchenSquare  Floor  \\\n",
       "0  14038          35    2.0  47.981561   29.442751            6.0      7   \n",
       "1  15053          41    3.0  65.683640   40.049543            8.0      7   \n",
       "2   4765          53    2.0  44.947953   29.197612            0.0      8   \n",
       "3   5809          58    2.0  53.352981   52.731512            9.0      8   \n",
       "4  10783          99    1.0  39.649192   23.776169            7.0     11   \n",
       "\n",
       "   HouseFloor  HouseYear  Ecology_1 Ecology_2 Ecology_3  Social_1  Social_2  \\\n",
       "0         9.0       1969   0.089040         B         B        33      7976   \n",
       "1         9.0       1978   0.000070         B         B        46     10309   \n",
       "2        12.0       1968   0.049637         B         B        34      7759   \n",
       "3        17.0       1977   0.437885         B         B        23      5735   \n",
       "4        12.0       1976   0.012339         B         B        35      5776   \n",
       "\n",
       "   Social_3  Healthcare_1  Helthcare_2  Shops_1 Shops_2          Price  \n",
       "0         5           NaN            0       11       B  184966.930730  \n",
       "1         1         240.0            1       16       B  300009.450063  \n",
       "2         0         229.0            1        3       B  220925.908524  \n",
       "3         3        1084.0            0        5       B  175616.227217  \n",
       "4         1        2078.0            2        4       B  150226.531644  "
      ]
     },
     "execution_count": 770,
     "metadata": {},
     "output_type": "execute_result"
    }
   ],
   "source": [
    "data.head()"
   ]
  },
  {
   "cell_type": "markdown",
   "metadata": {},
   "source": [
    "### 2) Разбиваем на трейн и валид"
   ]
  },
  {
   "cell_type": "code",
   "execution_count": 771,
   "metadata": {},
   "outputs": [],
   "source": [
    "from sklearn.model_selection import train_test_split"
   ]
  },
  {
   "cell_type": "code",
   "execution_count": 772,
   "metadata": {},
   "outputs": [],
   "source": [
    "train, valid = train_test_split(data, test_size=0.3, random_state=42)"
   ]
  },
  {
   "cell_type": "code",
   "execution_count": 773,
   "metadata": {},
   "outputs": [
    {
     "data": {
      "text/plain": [
       "Index(['Id', 'DistrictId', 'Rooms', 'Square', 'LifeSquare', 'KitchenSquare',\n",
       "       'Floor', 'HouseFloor', 'HouseYear', 'Ecology_1', 'Ecology_2',\n",
       "       'Ecology_3', 'Social_1', 'Social_2', 'Social_3', 'Healthcare_1',\n",
       "       'Helthcare_2', 'Shops_1', 'Shops_2', 'Price'],\n",
       "      dtype='object')"
      ]
     },
     "execution_count": 773,
     "metadata": {},
     "output_type": "execute_result"
    }
   ],
   "source": [
    "train.columns"
   ]
  },
  {
   "cell_type": "markdown",
   "metadata": {},
   "source": [
    "### 3) Пишем функции для обработки данных"
   ]
  },
  {
   "cell_type": "code",
   "execution_count": 774,
   "metadata": {
    "scrolled": true
   },
   "outputs": [],
   "source": [
    "def clean_kitchen(df):\n",
    "    df.loc[df['KitchenSquare'] > df['Square'] * 0.4, 'KitchenSquare'] = df['Square'] * 0.15\n",
    "    return df"
   ]
  },
  {
   "cell_type": "code",
   "execution_count": 775,
   "metadata": {},
   "outputs": [],
   "source": [
    "def clean_rooms(df):\n",
    "    df.loc[df['Rooms'] > 5, 'Rooms'] = 5\n",
    "    return df"
   ]
  },
  {
   "cell_type": "code",
   "execution_count": 776,
   "metadata": {},
   "outputs": [],
   "source": [
    "def clean_square(df):\n",
    "    df.loc[df['Square'] < 15, 'Square'] = 15\n",
    "    df['LifeSquare'] = df['LifeSquare'].fillna(df['Square'] - df['KitchenSquare'])\n",
    "    df.loc[df['Square'] < df['LifeSquare'] + df['KitchenSquare'], 'Square'] = df['LifeSquare'] + df['KitchenSquare']\n",
    "    return df"
   ]
  },
  {
   "cell_type": "code",
   "execution_count": 777,
   "metadata": {},
   "outputs": [],
   "source": [
    "def clean_year(df):\n",
    "    df.loc[df['HouseYear'] > 2020, 'HouseYear'] = 2020\n",
    "    return df"
   ]
  },
  {
   "cell_type": "code",
   "execution_count": 778,
   "metadata": {},
   "outputs": [],
   "source": [
    "stat0 = train.groupby(['DistrictId', 'Rooms', 'Social_2'], as_index=False)[['Price']].mean().rename(columns={'Price':'mean_price_drs'})\n",
    "stat1 = train.groupby(['DistrictId', 'Rooms'], as_index=False)[['Price']].mean().rename(columns={'Price':'mean_price_dr'})\n",
    "stat2 = train.groupby(['Rooms'], as_index=False)[['Price']].mean().rename(columns={'Price':'mean_price_r'})\n",
    "mean_price = train['Price'].mean()"
   ]
  },
  {
   "cell_type": "code",
   "execution_count": 779,
   "metadata": {},
   "outputs": [],
   "source": [
    "def add_mean_price(df, stat0, stat1, stat2, mean_price):\n",
    "    df = pd.merge(df, stat0, on=['DistrictId', 'Rooms', 'Social_2'], how='left')\n",
    "    df = pd.merge(df, stat1, on=['DistrictId', 'Rooms'], how='left')\n",
    "    df = pd.merge(df, stat2, on=['Rooms'], how='left')\n",
    "    df['mean_price_r'] = df['mean_price_r'].fillna(mean_price)\n",
    "    df['mean_price_dr'] = df['mean_price_dr'].fillna(df['mean_price_r'])\n",
    "    df['mean_price_drs'] = df['mean_price_drs'].fillna(df['mean_price_dr'])\n",
    "    return df"
   ]
  },
  {
   "cell_type": "code",
   "execution_count": 780,
   "metadata": {},
   "outputs": [],
   "source": [
    "def do_label(df, feature):\n",
    "    lab_enc = preprocessing.LabelEncoder()\n",
    "    df.loc[:, feature] = lab_enc.fit_transform(df.loc[:, feature])\n",
    "    return df\n",
    "def dummies_handling(df):\n",
    "    df = pd.get_dummies(df, columns = ['Ecology_2', 'Ecology_3', 'Shops_2'])\n",
    "    #df = do_label(df, 'Social_2')\n",
    "    return df"
   ]
  },
  {
   "cell_type": "code",
   "execution_count": 781,
   "metadata": {},
   "outputs": [],
   "source": [
    "def floors_checking(df):\n",
    "    df['HouseFloor'] = df['HouseFloor'].astype(int)\n",
    "    df.loc[df['HouseFloor'] <= 0, 'HouseFloor'] = df['Floor'] + 1 # Не на последнем\n",
    "    to_change = df['Floor'] > df['HouseFloor']\n",
    "    df.loc[to_change, 'Floor'], df.loc[to_change, 'HouseFloor'] = df.loc[to_change, 'HouseFloor'], df.loc[to_change,'Floor']\n",
    "    df['LastFloor'] = 0\n",
    "    df.loc[df['Floor'] == df['HouseFloor'], 'LastFloor'] = 1\n",
    "    df.loc[df['Floor'] == 1, 'LastFloor'] = 1\n",
    "    return df"
   ]
  },
  {
   "cell_type": "code",
   "execution_count": 782,
   "metadata": {},
   "outputs": [],
   "source": [
    "hc_stat1 = train.groupby(['DistrictId'], as_index=False)[['Healthcare_1']].mean().rename(columns={'Healthcare_1':'mean_hc_1'})\n",
    "mean_hc_1 = train['Healthcare_1'].mean()"
   ]
  },
  {
   "cell_type": "code",
   "execution_count": 783,
   "metadata": {},
   "outputs": [],
   "source": [
    "def clean_healthcare(df, hc_stat1, mean_hc_1):\n",
    "    df['Helthcare_2'] = df['Helthcare_2'].astype(int)\n",
    "    df = pd.merge(df, hc_stat1, on=['DistrictId'], how='left')\n",
    "    df['mean_hc_1'] = df['mean_hc_1'].fillna(mean_hc_1)\n",
    "    df['Healthcare_1'] = df['Healthcare_1'].fillna(df['mean_hc_1'])    \n",
    "    return df"
   ]
  },
  {
   "cell_type": "code",
   "execution_count": 784,
   "metadata": {},
   "outputs": [],
   "source": [
    "def prepare_data(df, stat1=stat1, stat2=stat2, mean_price=mean_price, hc_stat1=hc_stat1, mean_hc_1=mean_hc_1):\n",
    "    df = clean_kitchen(df)\n",
    "    df = clean_rooms(df)\n",
    "    df = clean_square(df)\n",
    "    df = clean_year(df)\n",
    "    df = dummies_handling(df)\n",
    "    df = add_mean_price(df, stat0, stat1, stat2, mean_price)\n",
    "    df = floors_checking(df)\n",
    "    df = clean_healthcare(df, hc_stat1, mean_hc_1)\n",
    "    return df"
   ]
  },
  {
   "cell_type": "markdown",
   "metadata": {},
   "source": [
    "### 4) Чистка данных"
   ]
  },
  {
   "cell_type": "markdown",
   "metadata": {},
   "source": [
    "Я решил не удалять строки - всё равно из Теста их нельзя удалять"
   ]
  },
  {
   "cell_type": "markdown",
   "metadata": {},
   "source": [
    "### 5) Применяем функции на трейне и валиде"
   ]
  },
  {
   "cell_type": "code",
   "execution_count": 785,
   "metadata": {},
   "outputs": [],
   "source": [
    "train = prepare_data(train)\n",
    "valid = prepare_data(valid)"
   ]
  },
  {
   "cell_type": "code",
   "execution_count": 766,
   "metadata": {},
   "outputs": [
    {
     "data": {
      "text/html": [
       "<div>\n",
       "<style scoped>\n",
       "    .dataframe tbody tr th:only-of-type {\n",
       "        vertical-align: middle;\n",
       "    }\n",
       "\n",
       "    .dataframe tbody tr th {\n",
       "        vertical-align: top;\n",
       "    }\n",
       "\n",
       "    .dataframe thead th {\n",
       "        text-align: right;\n",
       "    }\n",
       "</style>\n",
       "<table border=\"1\" class=\"dataframe\">\n",
       "  <thead>\n",
       "    <tr style=\"text-align: right;\">\n",
       "      <th></th>\n",
       "      <th>Id</th>\n",
       "      <th>DistrictId</th>\n",
       "      <th>Rooms</th>\n",
       "      <th>Square</th>\n",
       "      <th>LifeSquare</th>\n",
       "      <th>KitchenSquare</th>\n",
       "      <th>Floor</th>\n",
       "      <th>HouseFloor</th>\n",
       "      <th>HouseYear</th>\n",
       "      <th>Ecology_1</th>\n",
       "      <th>Social_1</th>\n",
       "      <th>Social_2</th>\n",
       "      <th>Social_3</th>\n",
       "      <th>Healthcare_1</th>\n",
       "      <th>Helthcare_2</th>\n",
       "      <th>Shops_1</th>\n",
       "      <th>Price</th>\n",
       "      <th>Ecology_2_A</th>\n",
       "      <th>Ecology_2_B</th>\n",
       "      <th>Ecology_3_A</th>\n",
       "      <th>Ecology_3_B</th>\n",
       "      <th>Shops_2_A</th>\n",
       "      <th>Shops_2_B</th>\n",
       "      <th>mean_price_drs</th>\n",
       "      <th>mean_price_dr</th>\n",
       "      <th>mean_price_r</th>\n",
       "      <th>LastFloor</th>\n",
       "    </tr>\n",
       "  </thead>\n",
       "  <tbody>\n",
       "    <tr>\n",
       "      <th>0</th>\n",
       "      <td>14604</td>\n",
       "      <td>23</td>\n",
       "      <td>1.0</td>\n",
       "      <td>41.681380</td>\n",
       "      <td>22.796166</td>\n",
       "      <td>8.0</td>\n",
       "      <td>14</td>\n",
       "      <td>17</td>\n",
       "      <td>2015</td>\n",
       "      <td>0.075779</td>\n",
       "      <td>6</td>\n",
       "      <td>1437</td>\n",
       "      <td>3</td>\n",
       "      <td>NaN</td>\n",
       "      <td>0</td>\n",
       "      <td>2</td>\n",
       "      <td>88504.384965</td>\n",
       "      <td>0</td>\n",
       "      <td>1</td>\n",
       "      <td>0</td>\n",
       "      <td>1</td>\n",
       "      <td>0</td>\n",
       "      <td>1</td>\n",
       "      <td>116016.381624</td>\n",
       "      <td>102427.030975</td>\n",
       "      <td>160134.810901</td>\n",
       "      <td>0</td>\n",
       "    </tr>\n",
       "    <tr>\n",
       "      <th>1</th>\n",
       "      <td>5621</td>\n",
       "      <td>23</td>\n",
       "      <td>3.0</td>\n",
       "      <td>173.504222</td>\n",
       "      <td>161.504222</td>\n",
       "      <td>12.0</td>\n",
       "      <td>3</td>\n",
       "      <td>5</td>\n",
       "      <td>1977</td>\n",
       "      <td>0.014073</td>\n",
       "      <td>2</td>\n",
       "      <td>475</td>\n",
       "      <td>0</td>\n",
       "      <td>NaN</td>\n",
       "      <td>0</td>\n",
       "      <td>0</td>\n",
       "      <td>207007.956663</td>\n",
       "      <td>0</td>\n",
       "      <td>1</td>\n",
       "      <td>0</td>\n",
       "      <td>1</td>\n",
       "      <td>0</td>\n",
       "      <td>1</td>\n",
       "      <td>185940.043115</td>\n",
       "      <td>165911.129700</td>\n",
       "      <td>290867.452543</td>\n",
       "      <td>0</td>\n",
       "    </tr>\n",
       "    <tr>\n",
       "      <th>2</th>\n",
       "      <td>235</td>\n",
       "      <td>87</td>\n",
       "      <td>1.0</td>\n",
       "      <td>39.710131</td>\n",
       "      <td>19.538663</td>\n",
       "      <td>8.0</td>\n",
       "      <td>4</td>\n",
       "      <td>17</td>\n",
       "      <td>1986</td>\n",
       "      <td>0.100456</td>\n",
       "      <td>43</td>\n",
       "      <td>7227</td>\n",
       "      <td>0</td>\n",
       "      <td>NaN</td>\n",
       "      <td>1</td>\n",
       "      <td>6</td>\n",
       "      <td>182126.280899</td>\n",
       "      <td>0</td>\n",
       "      <td>1</td>\n",
       "      <td>0</td>\n",
       "      <td>1</td>\n",
       "      <td>1</td>\n",
       "      <td>0</td>\n",
       "      <td>169596.630515</td>\n",
       "      <td>169596.630515</td>\n",
       "      <td>160134.810901</td>\n",
       "      <td>0</td>\n",
       "    </tr>\n",
       "    <tr>\n",
       "      <th>3</th>\n",
       "      <td>16258</td>\n",
       "      <td>48</td>\n",
       "      <td>3.0</td>\n",
       "      <td>99.152802</td>\n",
       "      <td>98.152802</td>\n",
       "      <td>1.0</td>\n",
       "      <td>1</td>\n",
       "      <td>15</td>\n",
       "      <td>2017</td>\n",
       "      <td>0.041125</td>\n",
       "      <td>46</td>\n",
       "      <td>9515</td>\n",
       "      <td>5</td>\n",
       "      <td>NaN</td>\n",
       "      <td>1</td>\n",
       "      <td>10</td>\n",
       "      <td>524365.550705</td>\n",
       "      <td>0</td>\n",
       "      <td>1</td>\n",
       "      <td>0</td>\n",
       "      <td>1</td>\n",
       "      <td>0</td>\n",
       "      <td>1</td>\n",
       "      <td>382424.639356</td>\n",
       "      <td>382424.639356</td>\n",
       "      <td>290867.452543</td>\n",
       "      <td>1</td>\n",
       "    </tr>\n",
       "    <tr>\n",
       "      <th>4</th>\n",
       "      <td>10773</td>\n",
       "      <td>77</td>\n",
       "      <td>3.0</td>\n",
       "      <td>79.195825</td>\n",
       "      <td>44.421062</td>\n",
       "      <td>10.0</td>\n",
       "      <td>16</td>\n",
       "      <td>17</td>\n",
       "      <td>1984</td>\n",
       "      <td>0.298205</td>\n",
       "      <td>16</td>\n",
       "      <td>4048</td>\n",
       "      <td>3</td>\n",
       "      <td>NaN</td>\n",
       "      <td>1</td>\n",
       "      <td>3</td>\n",
       "      <td>322048.433990</td>\n",
       "      <td>0</td>\n",
       "      <td>1</td>\n",
       "      <td>0</td>\n",
       "      <td>1</td>\n",
       "      <td>0</td>\n",
       "      <td>1</td>\n",
       "      <td>322048.433990</td>\n",
       "      <td>251751.766701</td>\n",
       "      <td>290867.452543</td>\n",
       "      <td>0</td>\n",
       "    </tr>\n",
       "  </tbody>\n",
       "</table>\n",
       "</div>"
      ],
      "text/plain": [
       "      Id  DistrictId  Rooms      Square  LifeSquare  KitchenSquare  Floor  \\\n",
       "0  14604          23    1.0   41.681380   22.796166            8.0     14   \n",
       "1   5621          23    3.0  173.504222  161.504222           12.0      3   \n",
       "2    235          87    1.0   39.710131   19.538663            8.0      4   \n",
       "3  16258          48    3.0   99.152802   98.152802            1.0      1   \n",
       "4  10773          77    3.0   79.195825   44.421062           10.0     16   \n",
       "\n",
       "   HouseFloor  HouseYear  Ecology_1  Social_1  Social_2  Social_3  \\\n",
       "0          17       2015   0.075779         6      1437         3   \n",
       "1           5       1977   0.014073         2       475         0   \n",
       "2          17       1986   0.100456        43      7227         0   \n",
       "3          15       2017   0.041125        46      9515         5   \n",
       "4          17       1984   0.298205        16      4048         3   \n",
       "\n",
       "   Healthcare_1  Helthcare_2  Shops_1          Price  Ecology_2_A  \\\n",
       "0           NaN            0        2   88504.384965            0   \n",
       "1           NaN            0        0  207007.956663            0   \n",
       "2           NaN            1        6  182126.280899            0   \n",
       "3           NaN            1       10  524365.550705            0   \n",
       "4           NaN            1        3  322048.433990            0   \n",
       "\n",
       "   Ecology_2_B  Ecology_3_A  Ecology_3_B  Shops_2_A  Shops_2_B  \\\n",
       "0            1            0            1          0          1   \n",
       "1            1            0            1          0          1   \n",
       "2            1            0            1          1          0   \n",
       "3            1            0            1          0          1   \n",
       "4            1            0            1          0          1   \n",
       "\n",
       "   mean_price_drs  mean_price_dr   mean_price_r  LastFloor  \n",
       "0   116016.381624  102427.030975  160134.810901          0  \n",
       "1   185940.043115  165911.129700  290867.452543          0  \n",
       "2   169596.630515  169596.630515  160134.810901          0  \n",
       "3   382424.639356  382424.639356  290867.452543          1  \n",
       "4   322048.433990  251751.766701  290867.452543          0  "
      ]
     },
     "execution_count": 766,
     "metadata": {},
     "output_type": "execute_result"
    }
   ],
   "source": [
    "train.head()"
   ]
  },
  {
   "cell_type": "code",
   "execution_count": 600,
   "metadata": {},
   "outputs": [
    {
     "name": "stdout",
     "output_type": "stream",
     "text": [
      "<class 'pandas.core.frame.DataFrame'>\n",
      "Int64Index: 7000 entries, 0 to 6999\n",
      "Data columns (total 27 columns):\n",
      "Id                7000 non-null int64\n",
      "DistrictId        7000 non-null int64\n",
      "Rooms             7000 non-null float64\n",
      "Square            7000 non-null float64\n",
      "LifeSquare        7000 non-null float64\n",
      "KitchenSquare     7000 non-null float64\n",
      "Floor             7000 non-null int64\n",
      "HouseFloor        7000 non-null int64\n",
      "HouseYear         7000 non-null int64\n",
      "Ecology_1         7000 non-null float64\n",
      "Social_1          7000 non-null int64\n",
      "Social_2          7000 non-null int64\n",
      "Social_3          7000 non-null int64\n",
      "Healthcare_1      3642 non-null float64\n",
      "Helthcare_2       7000 non-null int32\n",
      "Shops_1           7000 non-null int64\n",
      "Price             7000 non-null float64\n",
      "Ecology_2_A       7000 non-null uint8\n",
      "Ecology_2_B       7000 non-null uint8\n",
      "Ecology_3_A       7000 non-null uint8\n",
      "Ecology_3_B       7000 non-null uint8\n",
      "Shops_2_A         7000 non-null uint8\n",
      "Shops_2_B         7000 non-null uint8\n",
      "mean_price_drs    7000 non-null float64\n",
      "mean_price_dr     7000 non-null float64\n",
      "mean_price_r      7000 non-null float64\n",
      "LastFloor         7000 non-null int64\n",
      "dtypes: float64(10), int32(1), int64(10), uint8(6)\n",
      "memory usage: 1.5 MB\n"
     ]
    }
   ],
   "source": [
    "train.info()"
   ]
  },
  {
   "cell_type": "code",
   "execution_count": null,
   "metadata": {},
   "outputs": [],
   "source": []
  },
  {
   "cell_type": "code",
   "execution_count": null,
   "metadata": {},
   "outputs": [],
   "source": []
  },
  {
   "cell_type": "markdown",
   "metadata": {},
   "source": [
    "### 6) Строим модель, делаем предсказание на трейне и валиде"
   ]
  },
  {
   "cell_type": "code",
   "execution_count": 786,
   "metadata": {},
   "outputs": [],
   "source": [
    "from sklearn.ensemble import RandomForestRegressor as RF"
   ]
  },
  {
   "cell_type": "code",
   "execution_count": 787,
   "metadata": {},
   "outputs": [],
   "source": [
    "model = RF(n_estimators=250, max_depth=10, random_state=42)"
   ]
  },
  {
   "cell_type": "code",
   "execution_count": 788,
   "metadata": {},
   "outputs": [],
   "source": [
    "feats = ['Rooms', 'Square', 'HouseYear', 'mean_price_drs']"
   ]
  },
  {
   "cell_type": "code",
   "execution_count": 789,
   "metadata": {},
   "outputs": [
    {
     "data": {
      "text/plain": [
       "RandomForestRegressor(bootstrap=True, criterion='mse', max_depth=10,\n",
       "           max_features='auto', max_leaf_nodes=None,\n",
       "           min_impurity_decrease=0.0, min_impurity_split=None,\n",
       "           min_samples_leaf=1, min_samples_split=2,\n",
       "           min_weight_fraction_leaf=0.0, n_estimators=250, n_jobs=1,\n",
       "           oob_score=False, random_state=42, verbose=0, warm_start=False)"
      ]
     },
     "execution_count": 789,
     "metadata": {},
     "output_type": "execute_result"
    }
   ],
   "source": [
    "model.fit(train.loc[:, feats], train['Price'])"
   ]
  },
  {
   "cell_type": "markdown",
   "metadata": {},
   "source": [
    "### 7) Проверяем качество модели"
   ]
  },
  {
   "cell_type": "code",
   "execution_count": 790,
   "metadata": {},
   "outputs": [],
   "source": [
    "from sklearn.metrics import r2_score"
   ]
  },
  {
   "cell_type": "code",
   "execution_count": 791,
   "metadata": {},
   "outputs": [],
   "source": [
    "def pred_evaluate_model(df, model=model, feats=feats, calculate_r2='Yes'):\n",
    "    pred = model.predict(df.loc[:, feats])\n",
    "    if calculate_r2 == 'Yes':\n",
    "        r2 = r2_score(df['Price'], pred)\n",
    "        print(f'R2: {r2}')\n",
    "    return pred"
   ]
  },
  {
   "cell_type": "code",
   "execution_count": 792,
   "metadata": {},
   "outputs": [],
   "source": [
    "def evaluate_model(df, model=model, feats=feats):\n",
    "    pred = model.predict(df.loc[:, feats])\n",
    "    return r2_score(df['Price'], pred)"
   ]
  },
  {
   "cell_type": "code",
   "execution_count": 793,
   "metadata": {
    "scrolled": true
   },
   "outputs": [
    {
     "name": "stdout",
     "output_type": "stream",
     "text": [
      "R2: 0.892663836745316\n"
     ]
    }
   ],
   "source": [
    "pred_train = pred_evaluate_model(train)"
   ]
  },
  {
   "cell_type": "code",
   "execution_count": 794,
   "metadata": {},
   "outputs": [
    {
     "name": "stdout",
     "output_type": "stream",
     "text": [
      "R2: 0.6407381725746282\n"
     ]
    }
   ],
   "source": [
    "pred_valid = pred_evaluate_model(valid)"
   ]
  },
  {
   "cell_type": "markdown",
   "metadata": {},
   "source": [
    "### 7.5) Исследование, что лучше подойдёт"
   ]
  },
  {
   "cell_type": "markdown",
   "metadata": {},
   "source": [
    "#### Линейная регрессия"
   ]
  },
  {
   "cell_type": "code",
   "execution_count": 29,
   "metadata": {},
   "outputs": [],
   "source": [
    "from sklearn.linear_model import LinearRegression\n",
    "from sklearn.preprocessing import StandardScaler"
   ]
  },
  {
   "cell_type": "code",
   "execution_count": 30,
   "metadata": {},
   "outputs": [],
   "source": [
    "def check_regression(feats, train=train, valid=valid, do_scalar=True):\n",
    "    lr = LinearRegression()\n",
    "    scaler = StandardScaler()\n",
    "    X_train = train.loc[:, feats]\n",
    "    y_train = train['Price']\n",
    "    X_valid = valid.loc[:, feats]\n",
    "    y_valid = valid['Price']\n",
    "    if do_scalar:\n",
    "        X_train = pd.DataFrame(data=scaler.fit_transform(X_train), columns=feats)\n",
    "        X_valid = pd.DataFrame(data=scaler.transform(X_valid), columns=feats)\n",
    "    lr.fit(X_train, y_train)\n",
    "    X_train['Price'] = y_train\n",
    "    X_valid['Price'] = y_valid\n",
    "    return f\"{evaluate_model(X_train, model=lr, feats=feats)}\" \\\n",
    "           f\"\\t{evaluate_model(X_valid, model=lr, feats=feats)}\" \\\n",
    "           f\"\\t{feats}\\t{do_scalar}\""
   ]
  },
  {
   "cell_type": "markdown",
   "metadata": {},
   "source": [
    "#### Случайный лес"
   ]
  },
  {
   "cell_type": "code",
   "execution_count": 795,
   "metadata": {},
   "outputs": [],
   "source": [
    "def check_forest(feats, n_estimators, max_depth, train=train, valid=valid):\n",
    "    model = RF(n_estimators=n_estimators, max_depth=max_depth, random_state=42)\n",
    "    model.fit(train.loc[:, feats], train['Price'])\n",
    "    return f\"{evaluate_model(train, model=model, feats=feats)}\" \\\n",
    "           f\"\\t{evaluate_model(valid, model=model, feats=feats)}\" \\\n",
    "           f\"\\t{n_estimators}\\t{max_depth}\""
   ]
  },
  {
   "cell_type": "code",
   "execution_count": 808,
   "metadata": {},
   "outputs": [],
   "source": [
    "def check_forests(feats, train=train, valid=valid, est_s=5, est_e=50, \\\n",
    "                  est_step=5, depth_s=5, depth_e=50, depth_step=5, random_state=42):\n",
    "    for i in range(est_s, est_e, est_step):\n",
    "        for j in range(depth_s, depth_e, depth_step):\n",
    "            try:\n",
    "                model = RF(n_estimators=i, max_depth=j, random_state=random_state)\n",
    "                model.fit(train.loc[:, feats], train['Price'])\n",
    "                print(f\"{evaluate_model(train, model=model, feats=feats)}\" \\\n",
    "                      f\"\\t{evaluate_model(valid, model=model, feats=feats)}\" \\\n",
    "                      f\"\\t{i}\\t{j}\")\n",
    "            except:\n",
    "                print(f\"Cant\\t{i}\\t{j}\")    "
   ]
  },
  {
   "cell_type": "markdown",
   "metadata": {},
   "source": [
    "#### Случайный лес с подбором фич"
   ]
  },
  {
   "cell_type": "code",
   "execution_count": 797,
   "metadata": {},
   "outputs": [],
   "source": [
    "feats = ['DistrictId', 'Rooms', 'Square', 'LifeSquare', 'KitchenSquare', 'Floor', \\\n",
    "         'HouseYear', 'Social_1', 'Ecology_2_B', 'Ecology_3_A', 'Shops_2_B', 'LastFloor', 'mean_price_dr']"
   ]
  },
  {
   "cell_type": "code",
   "execution_count": null,
   "metadata": {
    "scrolled": true
   },
   "outputs": [],
   "source": [
    "check_forests(feats, est_s=275, est_e=330, depth_s=11, depth_e=13, depth_step=1)"
   ]
  },
  {
   "cell_type": "markdown",
   "metadata": {},
   "source": [
    "Excel RFIter"
   ]
  },
  {
   "cell_type": "code",
   "execution_count": null,
   "metadata": {},
   "outputs": [],
   "source": [
    "check_forests(feats, est_s=325, est_e=375, depth_s=11, depth_e=13, depth_step=1)"
   ]
  },
  {
   "cell_type": "markdown",
   "metadata": {},
   "source": [
    "Excel RFIter (added below and sorted)"
   ]
  },
  {
   "cell_type": "code",
   "execution_count": null,
   "metadata": {},
   "outputs": [],
   "source": [
    "check_forests(feats, est_s=338, est_e=343, est_step=1, depth_s=12, depth_e=14, depth_step=1)"
   ]
  },
  {
   "cell_type": "markdown",
   "metadata": {},
   "source": [
    "Excel RFIter (added below and sorted)"
   ]
  },
  {
   "cell_type": "code",
   "execution_count": null,
   "metadata": {},
   "outputs": [],
   "source": [
    "check_forests(feats, est_s=341, est_e=346, est_step=1, depth_s=12, depth_e=18, depth_step=1)"
   ]
  },
  {
   "cell_type": "markdown",
   "metadata": {},
   "source": [
    "Excel RFIter (added below and sorted)"
   ]
  },
  {
   "cell_type": "code",
   "execution_count": 98,
   "metadata": {},
   "outputs": [
    {
     "name": "stdout",
     "output_type": "stream",
     "text": [
      "0.9531728110398567\t0.6805549349908417\t345\t15\n",
      "0.9531752881920362\t0.6804439376253606\t350\t15\n",
      "0.9531524511138972\t0.6803394084849284\t355\t15\n",
      "0.9531621562685387\t0.6803443987485123\t360\t15\n",
      "0.9531458671186916\t0.6805329306402912\t365\t15\n",
      "0.9530667472602377\t0.6804382260325099\t370\t15\n"
     ]
    }
   ],
   "source": [
    "check_forests(feats, est_s=345, est_e=375, est_step=5, depth_s=15, depth_e=16, depth_step=1)"
   ]
  },
  {
   "cell_type": "markdown",
   "metadata": {},
   "source": [
    "Excel RFIter (added below and sorted)"
   ]
  },
  {
   "cell_type": "code",
   "execution_count": 99,
   "metadata": {},
   "outputs": [],
   "source": [
    "feats = ['DistrictId', 'Rooms', 'Square', 'KitchenSquare', \\\n",
    "         'Social_1', 'Ecology_3_A', 'Shops_2_B', 'LastFloor', 'mean_price_dr']"
   ]
  },
  {
   "cell_type": "code",
   "execution_count": null,
   "metadata": {},
   "outputs": [],
   "source": [
    "check_forests(feats, est_s=300, est_e=375, est_step=2, depth_s=11, depth_e=18, depth_step=1)"
   ]
  },
  {
   "cell_type": "markdown",
   "metadata": {},
   "source": [
    "Excel RFIter2"
   ]
  },
  {
   "cell_type": "code",
   "execution_count": null,
   "metadata": {
    "scrolled": true
   },
   "outputs": [],
   "source": [
    "check_forests(feats, est_s=100, est_e=325, est_step=25, depth_s=11, depth_e=14, depth_step=1)"
   ]
  },
  {
   "cell_type": "markdown",
   "metadata": {},
   "source": [
    "Excel RFIter2 (added below and sorted)"
   ]
  },
  {
   "cell_type": "code",
   "execution_count": null,
   "metadata": {
    "scrolled": true
   },
   "outputs": [],
   "source": [
    "check_forests(feats, est_s=25, est_e=375, est_step=25, depth_s=4, depth_e=14, depth_step=2)"
   ]
  },
  {
   "cell_type": "markdown",
   "metadata": {},
   "source": [
    "Excel RFIter2 (added below and sorted)"
   ]
  },
  {
   "cell_type": "code",
   "execution_count": null,
   "metadata": {},
   "outputs": [],
   "source": [
    "check_forests(feats, est_s=25, est_e=375, est_step=25, depth_s=8, depth_e=17, depth_step=1)"
   ]
  },
  {
   "cell_type": "markdown",
   "metadata": {},
   "source": [
    "Excel RFIter2 (added below and sorted)"
   ]
  },
  {
   "cell_type": "code",
   "execution_count": null,
   "metadata": {
    "scrolled": true
   },
   "outputs": [],
   "source": [
    "check_forests(feats, est_s=125, est_e=175, est_step=2, depth_s=10, depth_e=13, depth_step=1)"
   ]
  },
  {
   "cell_type": "markdown",
   "metadata": {},
   "source": [
    "Excel RFIter2 (added below and sorted)"
   ]
  },
  {
   "cell_type": "code",
   "execution_count": 106,
   "metadata": {},
   "outputs": [],
   "source": [
    "feats = ['DistrictId', 'Rooms', 'Square', 'KitchenSquare', \\\n",
    "         'Social_2', 'Ecology_3_A', 'Shops_1', 'LastFloor', 'mean_price_dr']"
   ]
  },
  {
   "cell_type": "code",
   "execution_count": null,
   "metadata": {},
   "outputs": [],
   "source": [
    "check_forests(feats, est_s=25, est_e=375, est_step=10, depth_s=8, depth_e=17, depth_step=1)"
   ]
  },
  {
   "cell_type": "markdown",
   "metadata": {},
   "source": [
    "Excel RFIter3"
   ]
  },
  {
   "cell_type": "code",
   "execution_count": 108,
   "metadata": {},
   "outputs": [],
   "source": [
    "feats = ['Square', 'KitchenSquare', \\\n",
    "         'Social_2', 'Ecology_3_A', 'Shops_1', 'LastFloor', 'mean_price_dr']"
   ]
  },
  {
   "cell_type": "code",
   "execution_count": null,
   "metadata": {
    "scrolled": true
   },
   "outputs": [],
   "source": [
    "check_forests(feats, est_s=25, est_e=375, est_step=25, depth_s=8, depth_e=17, depth_step=2)"
   ]
  },
  {
   "cell_type": "markdown",
   "metadata": {},
   "source": [
    "Excel RFIter4"
   ]
  },
  {
   "cell_type": "code",
   "execution_count": 110,
   "metadata": {},
   "outputs": [],
   "source": [
    "feats = ['Square', 'KitchenSquare', 'Helthcare_2', \\\n",
    "         'Social_2', 'Ecology_3_A', 'Shops_1', 'LastFloor', 'mean_price_dr']"
   ]
  },
  {
   "cell_type": "code",
   "execution_count": null,
   "metadata": {
    "scrolled": true
   },
   "outputs": [],
   "source": [
    "check_forests(feats, est_s=25, est_e=375, est_step=25, depth_s=8, depth_e=17, depth_step=2)"
   ]
  },
  {
   "cell_type": "markdown",
   "metadata": {},
   "source": [
    "Excel RFIter4"
   ]
  },
  {
   "cell_type": "code",
   "execution_count": 137,
   "metadata": {},
   "outputs": [],
   "source": [
    "train['Helthcare_2'] = train['Helthcare_2'].astype(int)\n",
    "valid['Helthcare_2'] = valid['Helthcare_2'].astype(int)"
   ]
  },
  {
   "cell_type": "code",
   "execution_count": 142,
   "metadata": {},
   "outputs": [],
   "source": [
    "feats = ['DistrictId', 'Rooms', 'Floor', 'HouseFloor', 'Square', 'KitchenSquare', 'Helthcare_2',\\\n",
    "         'Social_2', 'Ecology_3_A', 'LastFloor', 'mean_price_dr']"
   ]
  },
  {
   "cell_type": "code",
   "execution_count": null,
   "metadata": {
    "scrolled": true
   },
   "outputs": [],
   "source": [
    "check_forests(feats, est_s=25, est_e=375, est_step=25, depth_s=8, depth_e=17, depth_step=2)"
   ]
  },
  {
   "cell_type": "markdown",
   "metadata": {},
   "source": [
    "Excel RFIter5"
   ]
  },
  {
   "cell_type": "code",
   "execution_count": 146,
   "metadata": {},
   "outputs": [],
   "source": [
    "feats = ['DistrictId', 'Rooms', 'Square', 'Helthcare_2', 'Shops_1',\\\n",
    "         'Social_1', 'Social_2', 'Ecology_3_A', 'LastFloor', 'mean_price_dr']"
   ]
  },
  {
   "cell_type": "code",
   "execution_count": null,
   "metadata": {
    "scrolled": true
   },
   "outputs": [],
   "source": [
    "check_forests(feats, est_s=25, est_e=375, est_step=25, depth_s=8, depth_e=17, depth_step=2)"
   ]
  },
  {
   "cell_type": "markdown",
   "metadata": {},
   "source": [
    "Excel RFIter6"
   ]
  },
  {
   "cell_type": "code",
   "execution_count": 433,
   "metadata": {},
   "outputs": [],
   "source": [
    "feats = ['DistrictId', 'Rooms', 'Square', 'Helthcare_2', 'Shops_1',\\\n",
    "         'Social_1', 'Social_2', 'Ecology_3_A', 'LastFloor', 'mean_price_dr']"
   ]
  },
  {
   "cell_type": "code",
   "execution_count": null,
   "metadata": {},
   "outputs": [],
   "source": [
    "check_forests(feats, est_s=146, est_e=155, est_step=1, depth_s=7, depth_e=11, depth_step=1)"
   ]
  },
  {
   "cell_type": "markdown",
   "metadata": {},
   "source": [
    "Excel RFIter7"
   ]
  },
  {
   "cell_type": "code",
   "execution_count": 437,
   "metadata": {},
   "outputs": [],
   "source": [
    "feats = ['DistrictId', 'Rooms', 'Square', 'Helthcare_2', 'Shops_1',\\\n",
    "         'Social_1', 'Social_2', 'Ecology_3_A', 'LastFloor', 'mean_price_dr', 'KitchenSquare']"
   ]
  },
  {
   "cell_type": "code",
   "execution_count": null,
   "metadata": {},
   "outputs": [],
   "source": [
    "check_forests(feats, est_s=148, est_e=153, est_step=1, depth_s=9, depth_e=15, depth_step=1)"
   ]
  },
  {
   "cell_type": "markdown",
   "metadata": {},
   "source": [
    "Excel RFIter8"
   ]
  },
  {
   "cell_type": "code",
   "execution_count": 798,
   "metadata": {},
   "outputs": [
    {
     "name": "stdout",
     "output_type": "stream",
     "text": [
      "<class 'pandas.core.frame.DataFrame'>\n",
      "Int64Index: 7000 entries, 0 to 6999\n",
      "Data columns (total 28 columns):\n",
      "Id                7000 non-null int64\n",
      "DistrictId        7000 non-null int64\n",
      "Rooms             7000 non-null float64\n",
      "Square            7000 non-null float64\n",
      "LifeSquare        7000 non-null float64\n",
      "KitchenSquare     7000 non-null float64\n",
      "Floor             7000 non-null int64\n",
      "HouseFloor        7000 non-null int64\n",
      "HouseYear         7000 non-null int64\n",
      "Ecology_1         7000 non-null float64\n",
      "Social_1          7000 non-null int64\n",
      "Social_2          7000 non-null int64\n",
      "Social_3          7000 non-null int64\n",
      "Healthcare_1      7000 non-null float64\n",
      "Helthcare_2       7000 non-null int32\n",
      "Shops_1           7000 non-null int64\n",
      "Price             7000 non-null float64\n",
      "Ecology_2_A       7000 non-null uint8\n",
      "Ecology_2_B       7000 non-null uint8\n",
      "Ecology_3_A       7000 non-null uint8\n",
      "Ecology_3_B       7000 non-null uint8\n",
      "Shops_2_A         7000 non-null uint8\n",
      "Shops_2_B         7000 non-null uint8\n",
      "mean_price_drs    7000 non-null float64\n",
      "mean_price_dr     7000 non-null float64\n",
      "mean_price_r      7000 non-null float64\n",
      "LastFloor         7000 non-null int64\n",
      "mean_hc_1         7000 non-null float64\n",
      "dtypes: float64(11), int32(1), int64(10), uint8(6)\n",
      "memory usage: 1.2 MB\n"
     ]
    }
   ],
   "source": [
    "train.info()"
   ]
  },
  {
   "cell_type": "code",
   "execution_count": 835,
   "metadata": {},
   "outputs": [],
   "source": [
    "feats = ['Rooms', 'Square', 'Helthcare_2', 'Shops_1', 'Shops_2_A',\\\n",
    "         'Social_1', 'Social_3', 'Ecology_1',\\\n",
    "         'KitchenSquare', 'HouseFloor', 'Floor', 'HouseYear', 'Healthcare_1']"
   ]
  },
  {
   "cell_type": "code",
   "execution_count": null,
   "metadata": {},
   "outputs": [],
   "source": [
    "check_forests(feats, est_s=175, est_e=276, est_step=25, depth_s=11, depth_e=16, depth_step=1)"
   ]
  },
  {
   "cell_type": "markdown",
   "metadata": {},
   "source": [
    "Excel RFIter9"
   ]
  },
  {
   "cell_type": "code",
   "execution_count": null,
   "metadata": {},
   "outputs": [],
   "source": [
    "check_forests(feats, est_s=175, est_e=225, est_step=5, depth_s=15, depth_e=18, depth_step=1)"
   ]
  },
  {
   "cell_type": "markdown",
   "metadata": {},
   "source": [
    "Excel RFIter9"
   ]
  },
  {
   "cell_type": "code",
   "execution_count": null,
   "metadata": {},
   "outputs": [],
   "source": [
    "check_forests(feats, est_s=214, est_e=217, est_step=1, depth_s=17, depth_e=19, depth_step=1)"
   ]
  },
  {
   "cell_type": "markdown",
   "metadata": {},
   "source": [
    "Excel RFIter9"
   ]
  },
  {
   "cell_type": "markdown",
   "metadata": {},
   "source": [
    "#### Ручной подбор фич"
   ]
  },
  {
   "cell_type": "markdown",
   "metadata": {},
   "source": [
    "feats = ['Rooms', 'Square', 'Helthcare_2', 'Shops_1', 'Shops_2_A',\\\n",
    "         'Social_1', 'Social_3', 'Ecology_1',\\\n",
    "         'KitchenSquare', 'HouseFloor', 'Floor', 'HouseYear', 'Healthcare_1']"
   ]
  },
  {
   "cell_type": "code",
   "execution_count": 836,
   "metadata": {},
   "outputs": [
    {
     "name": "stdout",
     "output_type": "stream",
     "text": [
      "0.8734208878058171\t0.713591705977626\t150\t11\n"
     ]
    }
   ],
   "source": [
    "check_forests(feats, est_s=150, est_e=151, est_step=1, depth_s=11, depth_e=12, depth_step=1)"
   ]
  },
  {
   "cell_type": "markdown",
   "metadata": {},
   "source": [
    "feats = ['Rooms', 'Square', 'Helthcare_2', 'Shops_1', 'Shops_2_A',\\\n",
    "         'Social_1', 'Social_3', 'Ecology_1', 'DistrictId',\\\n",
    "         'KitchenSquare', 'HouseFloor', 'Floor', 'HouseYear', 'Healthcare_1']"
   ]
  },
  {
   "cell_type": "code",
   "execution_count": 824,
   "metadata": {},
   "outputs": [
    {
     "name": "stdout",
     "output_type": "stream",
     "text": [
      "0.8789640025604452\t0.7134197255553563\t150\t11\n"
     ]
    }
   ],
   "source": [
    "check_forests(feats, est_s=150, est_e=151, est_step=1, depth_s=11, depth_e=12, depth_step=1)"
   ]
  },
  {
   "cell_type": "markdown",
   "metadata": {},
   "source": [
    "feats = ['Rooms', 'Square', 'Helthcare_2', 'Shops_1', 'Shops_2_B',\\\n",
    "         'Social_1', 'Social_2', 'Ecology_1', 'DistrictId', 'Social_3',\\\n",
    "         'KitchenSquare', 'HouseFloor', 'Floor', 'HouseYear', 'Healthcare_1']"
   ]
  },
  {
   "cell_type": "code",
   "execution_count": 800,
   "metadata": {},
   "outputs": [
    {
     "name": "stdout",
     "output_type": "stream",
     "text": [
      "0.8813056049408263\t0.7134198205050545\t150\t11\n"
     ]
    }
   ],
   "source": [
    "check_forests(feats, est_s=150, est_e=151, est_step=1, depth_s=11, depth_e=12, depth_step=1)"
   ]
  },
  {
   "cell_type": "markdown",
   "metadata": {},
   "source": [
    "feats = ['Rooms', 'Square', 'Helthcare_2', 'Shops_1', 'Shops_2_B',\\\n",
    "         'Social_1', 'Social_2', 'Ecology_1', 'DistrictId', 'Social_3',\\\n",
    "         'KitchenSquare', 'HouseFloor', 'Floor', 'HouseYear']"
   ]
  },
  {
   "cell_type": "code",
   "execution_count": 524,
   "metadata": {},
   "outputs": [
    {
     "name": "stdout",
     "output_type": "stream",
     "text": [
      "0.8816980999545266\t0.710457715214928\t150\t11\n"
     ]
    }
   ],
   "source": [
    "check_forests(feats, est_s=150, est_e=151, est_step=1, depth_s=11, depth_e=12, depth_step=1)"
   ]
  },
  {
   "cell_type": "markdown",
   "metadata": {},
   "source": [
    "feats = ['Rooms', 'Square', 'Helthcare_2', 'Shops_1', 'Shops_2_B',\\\n",
    "         'Social_1', 'Social_2', 'Ecology_1', 'DistrictId',\\\n",
    "         'KitchenSquare', 'HouseFloor', 'Floor', 'HouseYear']"
   ]
  },
  {
   "cell_type": "code",
   "execution_count": 522,
   "metadata": {},
   "outputs": [
    {
     "name": "stdout",
     "output_type": "stream",
     "text": [
      "0.8662344089565438\t0.6961740933000424\t150\t11\n"
     ]
    }
   ],
   "source": [
    "check_forests(feats, est_s=150, est_e=151, est_step=1, depth_s=11, depth_e=12, depth_step=1)"
   ]
  },
  {
   "cell_type": "markdown",
   "metadata": {},
   "source": [
    "feats = ['Rooms', 'Square', 'Helthcare_2', 'Shops_1', 'Shops_2_B',\\\n",
    "         'Social_1', 'Social_2', 'Ecology_1',\\\n",
    "         'KitchenSquare', 'HouseFloor', 'Floor', 'HouseYear']"
   ]
  },
  {
   "cell_type": "code",
   "execution_count": 518,
   "metadata": {},
   "outputs": [
    {
     "name": "stdout",
     "output_type": "stream",
     "text": [
      "0.8513517738282208\t0.693852472161564\t150\t11\n"
     ]
    }
   ],
   "source": [
    "check_forests(feats, est_s=150, est_e=151, est_step=1, depth_s=11, depth_e=12, depth_step=1)"
   ]
  },
  {
   "cell_type": "markdown",
   "metadata": {},
   "source": [
    "feats = ['Rooms', 'Square', 'Helthcare_2', 'Shops_1', 'Shops_2_B',\\\n",
    "         'Social_1', 'Social_2', 'Ecology_1',\\\n",
    "         'KitchenSquare', 'HouseFloor', 'Floor']"
   ]
  },
  {
   "cell_type": "code",
   "execution_count": 516,
   "metadata": {},
   "outputs": [
    {
     "name": "stdout",
     "output_type": "stream",
     "text": [
      "0.8492888951425899\t0.6912579590926415\t150\t11\n"
     ]
    }
   ],
   "source": [
    "check_forests(feats, est_s=150, est_e=151, est_step=1, depth_s=11, depth_e=12, depth_step=1)"
   ]
  },
  {
   "cell_type": "markdown",
   "metadata": {},
   "source": [
    "feats = ['Rooms', 'Square', 'Helthcare_2', 'Shops_1', 'Shops_2_B',\\\n",
    "         'Social_1', 'Social_2', 'Ecology_1',\\\n",
    "         'KitchenSquare', 'HouseFloor']"
   ]
  },
  {
   "cell_type": "code",
   "execution_count": 510,
   "metadata": {},
   "outputs": [
    {
     "name": "stdout",
     "output_type": "stream",
     "text": [
      "0.8471006566800421\t0.6908330804932807\t150\t11\n"
     ]
    }
   ],
   "source": [
    "check_forests(feats, est_s=150, est_e=151, est_step=1, depth_s=11, depth_e=12, depth_step=1)"
   ]
  },
  {
   "cell_type": "markdown",
   "metadata": {},
   "source": [
    "feats = ['Rooms', 'Square', 'Helthcare_2', 'Shops_1', 'Shops_2_B',\\\n",
    "         'Social_1', 'Social_2', 'Ecology_1',\\\n",
    "         'KitchenSquare']"
   ]
  },
  {
   "cell_type": "code",
   "execution_count": 504,
   "metadata": {},
   "outputs": [
    {
     "name": "stdout",
     "output_type": "stream",
     "text": [
      "0.8442271978116513\t0.688933380618957\t150\t11\n"
     ]
    }
   ],
   "source": [
    "check_forests(feats, est_s=150, est_e=151, est_step=1, depth_s=11, depth_e=12, depth_step=1)"
   ]
  },
  {
   "cell_type": "markdown",
   "metadata": {},
   "source": [
    "feats = ['DistrictId', 'Rooms', 'Square', 'Helthcare_2', 'Shops_1', 'Shops_2_B',\\\n",
    "         'Social_1', 'Social_2', 'Ecology_1',\\\n",
    "         'KitchenSquare']"
   ]
  },
  {
   "cell_type": "code",
   "execution_count": 502,
   "metadata": {},
   "outputs": [
    {
     "name": "stdout",
     "output_type": "stream",
     "text": [
      "0.856922951759735\t0.6870310827791447\t150\t11\n"
     ]
    }
   ],
   "source": [
    "check_forests(feats, est_s=150, est_e=151, est_step=1, depth_s=11, depth_e=12, depth_step=1)"
   ]
  },
  {
   "cell_type": "markdown",
   "metadata": {},
   "source": [
    "feats = ['DistrictId', 'Rooms', 'Square', 'Helthcare_2', 'Shops_1', 'Shops_2_B',\\\n",
    "         'Social_1', 'Social_2', 'LastFloor', 'Ecology_1',\\\n",
    "         'KitchenSquare']"
   ]
  },
  {
   "cell_type": "code",
   "execution_count": 500,
   "metadata": {},
   "outputs": [
    {
     "name": "stdout",
     "output_type": "stream",
     "text": [
      "0.8575149055570301\t0.6862194160166801\t150\t11\n"
     ]
    }
   ],
   "source": [
    "check_forests(feats, est_s=150, est_e=151, est_step=1, depth_s=11, depth_e=12, depth_step=1)"
   ]
  },
  {
   "cell_type": "markdown",
   "metadata": {},
   "source": [
    "feats = ['DistrictId', 'Rooms', 'Square', 'Helthcare_2', 'Shops_1', 'Shops_2_B',\\\n",
    "         'Social_1', 'Social_2', 'LastFloor', 'Ecology_1',\\\n",
    "         'mean_price_dr', 'KitchenSquare']"
   ]
  },
  {
   "cell_type": "code",
   "execution_count": 490,
   "metadata": {},
   "outputs": [
    {
     "name": "stdout",
     "output_type": "stream",
     "text": [
      "0.9004239803768026\t0.6786840246044776\t150\t11\n"
     ]
    }
   ],
   "source": [
    "check_forests(feats, est_s=150, est_e=151, est_step=1, depth_s=11, depth_e=12, depth_step=1)"
   ]
  },
  {
   "cell_type": "markdown",
   "metadata": {},
   "source": [
    "feats = ['DistrictId', 'Rooms', 'Square', 'Helthcare_2', 'Shops_1',\\\n",
    "         'Social_1', 'Social_2', 'LastFloor', 'Ecology_1',\\\n",
    "         'mean_price_dr', 'KitchenSquare']"
   ]
  },
  {
   "cell_type": "code",
   "execution_count": 470,
   "metadata": {},
   "outputs": [
    {
     "name": "stdout",
     "output_type": "stream",
     "text": [
      "0.9003135920111034\t0.6786419691139831\t150\t11\n"
     ]
    }
   ],
   "source": [
    "check_forests(feats, est_s=150, est_e=151, est_step=1, depth_s=11, depth_e=12, depth_step=1)"
   ]
  },
  {
   "cell_type": "markdown",
   "metadata": {},
   "source": [
    "feats = ['DistrictId', 'Rooms', 'Square', 'Helthcare_2', 'Shops_1',\\\n",
    "         'Social_1', 'Social_2', 'LastFloor', 'Ecology_3_B', 'Ecology_2_B', 'Ecology_1',\\\n",
    "         'mean_price_dr', 'KitchenSquare']"
   ]
  },
  {
   "cell_type": "code",
   "execution_count": 468,
   "metadata": {},
   "outputs": [
    {
     "name": "stdout",
     "output_type": "stream",
     "text": [
      "0.9001535612485546\t0.677772636674417\t150\t11\n"
     ]
    }
   ],
   "source": [
    "check_forests(feats, est_s=150, est_e=151, est_step=1, depth_s=11, depth_e=12, depth_step=1)"
   ]
  },
  {
   "cell_type": "code",
   "execution_count": 460,
   "metadata": {},
   "outputs": [
    {
     "name": "stdout",
     "output_type": "stream",
     "text": [
      "0.8993802647178427\t0.6767204545801306\t150\t11\n"
     ]
    }
   ],
   "source": [
    "check_forests(feats, est_s=150, est_e=151, est_step=1, depth_s=11, depth_e=12, depth_step=1)"
   ]
  },
  {
   "cell_type": "code",
   "execution_count": null,
   "metadata": {},
   "outputs": [],
   "source": [
    "check_forests(feats, est_s=148, est_e=153, est_step=1, depth_s=9, depth_e=15, depth_step=1)"
   ]
  },
  {
   "cell_type": "code",
   "execution_count": null,
   "metadata": {},
   "outputs": [],
   "source": []
  },
  {
   "cell_type": "code",
   "execution_count": 62,
   "metadata": {},
   "outputs": [],
   "source": [
    "from sklearn.model_selection import GridSearchCV\n",
    "from sklearn import preprocessing"
   ]
  },
  {
   "cell_type": "code",
   "execution_count": 58,
   "metadata": {},
   "outputs": [],
   "source": [
    "parameters = [{'n_estimators': [150, 200, 250], \n",
    "               'max_features': np.arange(5, 9),\n",
    "               'max_depth': np.arange(5, 10)}]"
   ]
  },
  {
   "cell_type": "code",
   "execution_count": 66,
   "metadata": {},
   "outputs": [],
   "source": [
    "clf = GridSearchCV(estimator=RF(random_state=100), \n",
    "                   param_grid=parameters,\n",
    "                   cv=5)"
   ]
  },
  {
   "cell_type": "code",
   "execution_count": 67,
   "metadata": {},
   "outputs": [],
   "source": [
    "lab_enc = preprocessing.LabelEncoder()\n",
    "training_scores_encoded = lab_enc.fit_transform(train.loc[:, 'Price'])"
   ]
  },
  {
   "cell_type": "code",
   "execution_count": 68,
   "metadata": {},
   "outputs": [
    {
     "data": {
      "text/plain": [
       "GridSearchCV(cv=5, error_score='raise',\n",
       "       estimator=RandomForestRegressor(bootstrap=True, criterion='mse', max_depth=None,\n",
       "           max_features='auto', max_leaf_nodes=None,\n",
       "           min_impurity_decrease=0.0, min_impurity_split=None,\n",
       "           min_samples_leaf=1, min_samples_split=2,\n",
       "           min_weight_fraction_leaf=0.0, n_estimators=10, n_jobs=1,\n",
       "           oob_score=False, random_state=100, verbose=0, warm_start=False),\n",
       "       fit_params=None, iid=True, n_jobs=1,\n",
       "       param_grid=[{'n_estimators': [150, 200, 250], 'max_features': array([5, 6, 7, 8]), 'max_depth': array([5, 6, 7, 8, 9])}],\n",
       "       pre_dispatch='2*n_jobs', refit=True, return_train_score='warn',\n",
       "       scoring=None, verbose=0)"
      ]
     },
     "execution_count": 68,
     "metadata": {},
     "output_type": "execute_result"
    }
   ],
   "source": [
    "clf.fit(train.drop(columns='Price'), training_scores_encoded)"
   ]
  },
  {
   "cell_type": "code",
   "execution_count": 69,
   "metadata": {},
   "outputs": [
    {
     "data": {
      "text/plain": [
       "{'max_depth': 9, 'max_features': 8, 'n_estimators': 250}"
      ]
     },
     "execution_count": 69,
     "metadata": {},
     "output_type": "execute_result"
    }
   ],
   "source": [
    "clf.best_params_"
   ]
  },
  {
   "cell_type": "code",
   "execution_count": 70,
   "metadata": {},
   "outputs": [],
   "source": [
    "parameters = [{'n_estimators': [250, 300, 350], \n",
    "               'max_features': np.arange(8, 11),\n",
    "               'max_depth': np.arange(9, 12)}]"
   ]
  },
  {
   "cell_type": "code",
   "execution_count": 73,
   "metadata": {},
   "outputs": [],
   "source": [
    "clf2 = GridSearchCV(estimator=RF(random_state=100), \n",
    "                   param_grid=parameters,\n",
    "                   cv=5)"
   ]
  },
  {
   "cell_type": "code",
   "execution_count": 74,
   "metadata": {},
   "outputs": [
    {
     "data": {
      "text/plain": [
       "GridSearchCV(cv=5, error_score='raise',\n",
       "       estimator=RandomForestRegressor(bootstrap=True, criterion='mse', max_depth=None,\n",
       "           max_features='auto', max_leaf_nodes=None,\n",
       "           min_impurity_decrease=0.0, min_impurity_split=None,\n",
       "           min_samples_leaf=1, min_samples_split=2,\n",
       "           min_weight_fraction_leaf=0.0, n_estimators=10, n_jobs=1,\n",
       "           oob_score=False, random_state=100, verbose=0, warm_start=False),\n",
       "       fit_params=None, iid=True, n_jobs=1,\n",
       "       param_grid=[{'n_estimators': [250, 300, 350], 'max_features': array([ 8,  9, 10]), 'max_depth': array([ 9, 10, 11])}],\n",
       "       pre_dispatch='2*n_jobs', refit=True, return_train_score='warn',\n",
       "       scoring=None, verbose=0)"
      ]
     },
     "execution_count": 74,
     "metadata": {},
     "output_type": "execute_result"
    }
   ],
   "source": [
    "clf2.fit(train.drop(columns='Price'), training_scores_encoded)"
   ]
  },
  {
   "cell_type": "code",
   "execution_count": 75,
   "metadata": {},
   "outputs": [
    {
     "data": {
      "text/plain": [
       "{'max_depth': 11, 'max_features': 9, 'n_estimators': 300}"
      ]
     },
     "execution_count": 75,
     "metadata": {},
     "output_type": "execute_result"
    }
   ],
   "source": [
    "clf2.best_params_"
   ]
  },
  {
   "cell_type": "code",
   "execution_count": 78,
   "metadata": {},
   "outputs": [],
   "source": [
    "parameters3 = [{'n_estimators': [275, 300, 325], \n",
    "               'max_features': [9],\n",
    "               'max_depth': np.arange(11, 15)}]"
   ]
  },
  {
   "cell_type": "code",
   "execution_count": 79,
   "metadata": {},
   "outputs": [],
   "source": [
    "clf3 = GridSearchCV(estimator=RF(random_state=100), \n",
    "                   param_grid=parameters3,\n",
    "                   cv=5)"
   ]
  },
  {
   "cell_type": "code",
   "execution_count": 80,
   "metadata": {},
   "outputs": [
    {
     "data": {
      "text/plain": [
       "GridSearchCV(cv=5, error_score='raise',\n",
       "       estimator=RandomForestRegressor(bootstrap=True, criterion='mse', max_depth=None,\n",
       "           max_features='auto', max_leaf_nodes=None,\n",
       "           min_impurity_decrease=0.0, min_impurity_split=None,\n",
       "           min_samples_leaf=1, min_samples_split=2,\n",
       "           min_weight_fraction_leaf=0.0, n_estimators=10, n_jobs=1,\n",
       "           oob_score=False, random_state=100, verbose=0, warm_start=False),\n",
       "       fit_params=None, iid=True, n_jobs=1,\n",
       "       param_grid=[{'n_estimators': [275, 300, 325], 'max_features': [9], 'max_depth': array([11, 12, 13, 14])}],\n",
       "       pre_dispatch='2*n_jobs', refit=True, return_train_score='warn',\n",
       "       scoring=None, verbose=0)"
      ]
     },
     "execution_count": 80,
     "metadata": {},
     "output_type": "execute_result"
    }
   ],
   "source": [
    "clf3.fit(train.drop(columns='Price'), training_scores_encoded)"
   ]
  },
  {
   "cell_type": "code",
   "execution_count": 81,
   "metadata": {},
   "outputs": [
    {
     "data": {
      "text/plain": [
       "{'max_depth': 11, 'max_features': 9, 'n_estimators': 300}"
      ]
     },
     "execution_count": 81,
     "metadata": {},
     "output_type": "execute_result"
    }
   ],
   "source": [
    "clf3.best_params_"
   ]
  },
  {
   "cell_type": "code",
   "execution_count": 89,
   "metadata": {},
   "outputs": [
    {
     "ename": "TypeError",
     "evalue": "_passthrough_scorer() missing 1 required positional argument: 'estimator'",
     "output_type": "error",
     "traceback": [
      "\u001b[1;31m---------------------------------------------------------------------------\u001b[0m",
      "\u001b[1;31mTypeError\u001b[0m                                 Traceback (most recent call last)",
      "\u001b[1;32m<ipython-input-89-c59f73eb672e>\u001b[0m in \u001b[0;36m<module>\u001b[1;34m()\u001b[0m\n\u001b[1;32m----> 1\u001b[1;33m \u001b[0mclf3\u001b[0m\u001b[1;33m.\u001b[0m\u001b[0mscorer_\u001b[0m\u001b[1;33m(\u001b[0m\u001b[1;33m)\u001b[0m\u001b[1;33m\u001b[0m\u001b[0m\n\u001b[0m",
      "\u001b[1;31mTypeError\u001b[0m: _passthrough_scorer() missing 1 required positional argument: 'estimator'"
     ]
    }
   ],
   "source": [
    "clf3.scorer_()"
   ]
  },
  {
   "cell_type": "markdown",
   "metadata": {},
   "source": [
    "### Подбор фич"
   ]
  },
  {
   "cell_type": "code",
   "execution_count": 36,
   "metadata": {},
   "outputs": [],
   "source": [
    "possible_feats = list(train.columns.values)\n",
    "possible_feats.remove('Price')\n",
    "possible_feats.remove('Id')"
   ]
  },
  {
   "cell_type": "code",
   "execution_count": 105,
   "metadata": {},
   "outputs": [
    {
     "data": {
      "text/plain": [
       "Id               0.019332\n",
       "DistrictId       0.264105\n",
       "Rooms            0.570405\n",
       "Square           0.107811\n",
       "LifeSquare       0.068150\n",
       "KitchenSquare    0.020301\n",
       "Floor            0.114788\n",
       "HouseFloor       0.109997\n",
       "HouseYear        0.035236\n",
       "Ecology_1       -0.064129\n",
       "Social_1         0.265278\n",
       "Social_2         0.240089\n",
       "Social_3         0.076234\n",
       "Helthcare_2      0.253601\n",
       "Shops_1          0.183545\n",
       "Price            1.000000\n",
       "mean_price_dr    0.813599\n",
       "mean_price_r     0.575864\n",
       "Ecology_2_A     -0.030568\n",
       "Ecology_2_B      0.030568\n",
       "Ecology_3_A      0.051992\n",
       "Ecology_3_B     -0.051992\n",
       "Shops_2_A       -0.061129\n",
       "Shops_2_B        0.061129\n",
       "LastFloor       -0.005087\n",
       "Name: Price, dtype: float64"
      ]
     },
     "execution_count": 105,
     "metadata": {},
     "output_type": "execute_result"
    }
   ],
   "source": [
    "train.corr()['Price']"
   ]
  },
  {
   "cell_type": "code",
   "execution_count": 39,
   "metadata": {},
   "outputs": [],
   "source": [
    "possible_feats = train.corr()['Price'][abs(train.corr()['Price']) > 0.25].index\n",
    "possible_feats = list(possible_feats)\n",
    "possible_feats.remove('Price')"
   ]
  },
  {
   "cell_type": "code",
   "execution_count": 40,
   "metadata": {},
   "outputs": [
    {
     "name": "stdout",
     "output_type": "stream",
     "text": [
      "['DistrictId', 'Rooms', 'Social_1', 'Helthcare_2', 'mean_price_dr', 'mean_price_r']\n"
     ]
    }
   ],
   "source": [
    "print(possible_feats)"
   ]
  },
  {
   "cell_type": "code",
   "execution_count": 43,
   "metadata": {},
   "outputs": [],
   "source": [
    "possible_feats.append('Square')\n",
    "possible_feats.append('LifeSquare')\n",
    "possible_feats.append('Floor')\n",
    "possible_feats.append('LastFloor')"
   ]
  },
  {
   "cell_type": "markdown",
   "metadata": {},
   "source": [
    "#### PCA"
   ]
  },
  {
   "cell_type": "code",
   "execution_count": 47,
   "metadata": {},
   "outputs": [],
   "source": [
    "from sklearn.decomposition import PCA"
   ]
  },
  {
   "cell_type": "code",
   "execution_count": 48,
   "metadata": {},
   "outputs": [],
   "source": [
    "def do_pca(pca_comp, train=train, valid=valid):\n",
    "    pca_feats = list('abcdefghijklmnopqrstuvwxyz'[0:pca_comp])\n",
    "    pca = PCA(n_components=pca_comp)\n",
    "    fit = pca.fit(train.drop(columns='Price'))\n",
    "    X_train_pca = fit.transform(train.drop(columns='Price'))\n",
    "    X_train_pca = pd.DataFrame(X_train_pca, columns=pca_feats)\n",
    "    X_train_pca['Price'] = train['Price']\n",
    "    X_valid_pca = fit.transform(valid.drop(columns='Price'))\n",
    "    X_valid_pca = pd.DataFrame(X_valid_pca, columns=pca_feats)\n",
    "    X_valid_pca['Price'] = valid.loc[:, 'Price']\n",
    "    check_forests(pca_feats, train=X_train_pca, valid=X_valid_pca)    "
   ]
  },
  {
   "cell_type": "code",
   "execution_count": null,
   "metadata": {},
   "outputs": [],
   "source": [
    "for i in range(5, 15, 2):\n",
    "    print(f\"{i} - is current number of components\")\n",
    "    #do_pca(i)"
   ]
  },
  {
   "cell_type": "markdown",
   "metadata": {},
   "source": [
    "### 8) Применяем функции обработки данных, чистим тестовые данные"
   ]
  },
  {
   "cell_type": "code",
   "execution_count": null,
   "metadata": {},
   "outputs": [],
   "source": [
    "test = pd.read_csv('input/test.csv')\n",
    "test = prepare_data(test)"
   ]
  },
  {
   "cell_type": "markdown",
   "metadata": {},
   "source": [
    "### 9) Делаем предсказание на тесте"
   ]
  },
  {
   "cell_type": "code",
   "execution_count": null,
   "metadata": {},
   "outputs": [],
   "source": [
    "test['Price'] = pred_evaluate_model(test, calculate_r2='No')"
   ]
  },
  {
   "cell_type": "markdown",
   "metadata": {},
   "source": [
    "### 10) Записываем предсказания в файл"
   ]
  },
  {
   "cell_type": "code",
   "execution_count": null,
   "metadata": {},
   "outputs": [],
   "source": [
    "test.loc[:, ['Id', 'Price']].to_csv('VVashchenkov_predictions.csv', index=None)"
   ]
  }
 ],
 "metadata": {
  "kernelspec": {
   "display_name": "Python 3",
   "language": "python",
   "name": "python3"
  },
  "language_info": {
   "codemirror_mode": {
    "name": "ipython",
    "version": 3
   },
   "file_extension": ".py",
   "mimetype": "text/x-python",
   "name": "python",
   "nbconvert_exporter": "python",
   "pygments_lexer": "ipython3",
   "version": "3.6.5"
  }
 },
 "nbformat": 4,
 "nbformat_minor": 2
}
